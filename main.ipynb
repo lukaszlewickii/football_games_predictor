{
 "cells": [
  {
   "cell_type": "code",
   "execution_count": 105,
   "metadata": {},
   "outputs": [],
   "source": [
    "import pandas as pd\n",
    "import numpy as np\n",
    "from sklearn.model_selection import train_test_split\n",
    "from sklearn.preprocessing import StandardScaler\n",
    "from sklearn.metrics import mean_squared_error, confusion_matrix, accuracy_score\n",
    "from keras.models import Sequential\n",
    "from keras.layers import LSTM, Dense\n",
    "import matplotlib.pyplot as plt"
   ]
  },
  {
   "cell_type": "code",
   "execution_count": 121,
   "metadata": {},
   "outputs": [],
   "source": [
    "df = pd.read_csv('data/england-premier-league-matches-2017-to-2018-stats.csv')"
   ]
  },
  {
   "cell_type": "code",
   "execution_count": 62,
   "metadata": {},
   "outputs": [
    {
     "data": {
      "text/plain": [
       "Index(['timestamp', 'date_GMT', 'status', 'attendance', 'home_team_name',\n",
       "       'away_team_name', 'referee', 'Game Week', 'Pre-Match PPG (Home)',\n",
       "       'Pre-Match PPG (Away)', 'home_ppg', 'away_ppg', 'home_team_goal_count',\n",
       "       'away_team_goal_count', 'total_goal_count', 'total_goals_at_half_time',\n",
       "       'home_team_goal_count_half_time', 'away_team_goal_count_half_time',\n",
       "       'home_team_goal_timings', 'away_team_goal_timings',\n",
       "       'home_team_corner_count', 'away_team_corner_count',\n",
       "       'home_team_yellow_cards', 'home_team_red_cards',\n",
       "       'away_team_yellow_cards', 'away_team_red_cards',\n",
       "       'home_team_first_half_cards', 'home_team_second_half_cards',\n",
       "       'away_team_first_half_cards', 'away_team_second_half_cards',\n",
       "       'home_team_shots', 'away_team_shots', 'home_team_shots_on_target',\n",
       "       'away_team_shots_on_target', 'home_team_shots_off_target',\n",
       "       'away_team_shots_off_target', 'home_team_fouls', 'away_team_fouls',\n",
       "       'home_team_possession', 'away_team_possession',\n",
       "       'Home Team Pre-Match xG', 'Away Team Pre-Match xG', 'team_a_xg',\n",
       "       'team_b_xg', 'average_goals_per_match_pre_match',\n",
       "       'btts_percentage_pre_match', 'over_15_percentage_pre_match',\n",
       "       'over_25_percentage_pre_match', 'over_35_percentage_pre_match',\n",
       "       'over_45_percentage_pre_match', 'over_15_HT_FHG_percentage_pre_match',\n",
       "       'over_05_HT_FHG_percentage_pre_match',\n",
       "       'over_15_2HG_percentage_pre_match', 'over_05_2HG_percentage_pre_match',\n",
       "       'average_corners_per_match_pre_match',\n",
       "       'average_cards_per_match_pre_match', 'odds_ft_home_team_win',\n",
       "       'odds_ft_draw', 'odds_ft_away_team_win', 'odds_ft_over15',\n",
       "       'odds_ft_over25', 'odds_ft_over35', 'odds_ft_over45', 'odds_btts_yes',\n",
       "       'odds_btts_no', 'stadium_name'],\n",
       "      dtype='object')"
      ]
     },
     "execution_count": 62,
     "metadata": {},
     "output_type": "execute_result"
    }
   ],
   "source": [
    "df.columns"
   ]
  },
  {
   "cell_type": "code",
   "execution_count": 85,
   "metadata": {},
   "outputs": [
    {
     "data": {
      "text/html": [
       "<div>\n",
       "<style scoped>\n",
       "    .dataframe tbody tr th:only-of-type {\n",
       "        vertical-align: middle;\n",
       "    }\n",
       "\n",
       "    .dataframe tbody tr th {\n",
       "        vertical-align: top;\n",
       "    }\n",
       "\n",
       "    .dataframe thead th {\n",
       "        text-align: right;\n",
       "    }\n",
       "</style>\n",
       "<table border=\"1\" class=\"dataframe\">\n",
       "  <thead>\n",
       "    <tr style=\"text-align: right;\">\n",
       "      <th></th>\n",
       "      <th>timestamp</th>\n",
       "      <th>attendance</th>\n",
       "      <th>Game Week</th>\n",
       "      <th>Pre-Match PPG (Home)</th>\n",
       "      <th>Pre-Match PPG (Away)</th>\n",
       "      <th>home_ppg</th>\n",
       "      <th>away_ppg</th>\n",
       "      <th>home_team_goal_count</th>\n",
       "      <th>away_team_goal_count</th>\n",
       "      <th>total_goal_count</th>\n",
       "      <th>...</th>\n",
       "      <th>average_cards_per_match_pre_match</th>\n",
       "      <th>odds_ft_home_team_win</th>\n",
       "      <th>odds_ft_draw</th>\n",
       "      <th>odds_ft_away_team_win</th>\n",
       "      <th>odds_ft_over15</th>\n",
       "      <th>odds_ft_over25</th>\n",
       "      <th>odds_ft_over35</th>\n",
       "      <th>odds_ft_over45</th>\n",
       "      <th>odds_btts_yes</th>\n",
       "      <th>odds_btts_no</th>\n",
       "    </tr>\n",
       "  </thead>\n",
       "  <tbody>\n",
       "    <tr>\n",
       "      <th>count</th>\n",
       "      <td>3.800000e+02</td>\n",
       "      <td>380.000000</td>\n",
       "      <td>380.000000</td>\n",
       "      <td>380.000000</td>\n",
       "      <td>380.000000</td>\n",
       "      <td>380.000000</td>\n",
       "      <td>380.000000</td>\n",
       "      <td>380.000000</td>\n",
       "      <td>380.000000</td>\n",
       "      <td>380.000000</td>\n",
       "      <td>...</td>\n",
       "      <td>380.000000</td>\n",
       "      <td>380.000000</td>\n",
       "      <td>380.000000</td>\n",
       "      <td>380.000000</td>\n",
       "      <td>380.000000</td>\n",
       "      <td>380.000000</td>\n",
       "      <td>380.000000</td>\n",
       "      <td>380.000000</td>\n",
       "      <td>380.000000</td>\n",
       "      <td>380.000000</td>\n",
       "    </tr>\n",
       "    <tr>\n",
       "      <th>mean</th>\n",
       "      <td>1.514574e+09</td>\n",
       "      <td>38316.707895</td>\n",
       "      <td>19.500000</td>\n",
       "      <td>1.509105</td>\n",
       "      <td>1.105105</td>\n",
       "      <td>1.626000</td>\n",
       "      <td>1.112500</td>\n",
       "      <td>1.531579</td>\n",
       "      <td>1.147368</td>\n",
       "      <td>2.678947</td>\n",
       "      <td>...</td>\n",
       "      <td>3.228684</td>\n",
       "      <td>3.055632</td>\n",
       "      <td>4.425474</td>\n",
       "      <td>4.586474</td>\n",
       "      <td>1.263368</td>\n",
       "      <td>1.880211</td>\n",
       "      <td>3.243632</td>\n",
       "      <td>6.732974</td>\n",
       "      <td>1.878553</td>\n",
       "      <td>1.827105</td>\n",
       "    </tr>\n",
       "    <tr>\n",
       "      <th>std</th>\n",
       "      <td>6.827494e+06</td>\n",
       "      <td>17802.226732</td>\n",
       "      <td>10.980313</td>\n",
       "      <td>0.755472</td>\n",
       "      <td>0.793324</td>\n",
       "      <td>0.517686</td>\n",
       "      <td>0.534331</td>\n",
       "      <td>1.340087</td>\n",
       "      <td>1.177793</td>\n",
       "      <td>1.665125</td>\n",
       "      <td>...</td>\n",
       "      <td>1.197882</td>\n",
       "      <td>2.272880</td>\n",
       "      <td>1.619347</td>\n",
       "      <td>2.986443</td>\n",
       "      <td>0.209504</td>\n",
       "      <td>0.404690</td>\n",
       "      <td>1.020293</td>\n",
       "      <td>2.885210</td>\n",
       "      <td>0.356175</td>\n",
       "      <td>0.347720</td>\n",
       "    </tr>\n",
       "    <tr>\n",
       "      <th>min</th>\n",
       "      <td>1.502477e+09</td>\n",
       "      <td>10242.000000</td>\n",
       "      <td>1.000000</td>\n",
       "      <td>0.000000</td>\n",
       "      <td>0.000000</td>\n",
       "      <td>0.950000</td>\n",
       "      <td>0.580000</td>\n",
       "      <td>0.000000</td>\n",
       "      <td>0.000000</td>\n",
       "      <td>0.000000</td>\n",
       "      <td>...</td>\n",
       "      <td>0.000000</td>\n",
       "      <td>0.000000</td>\n",
       "      <td>0.000000</td>\n",
       "      <td>0.000000</td>\n",
       "      <td>0.000000</td>\n",
       "      <td>0.000000</td>\n",
       "      <td>0.000000</td>\n",
       "      <td>0.000000</td>\n",
       "      <td>0.000000</td>\n",
       "      <td>0.000000</td>\n",
       "    </tr>\n",
       "    <tr>\n",
       "      <th>25%</th>\n",
       "      <td>1.509199e+09</td>\n",
       "      <td>24102.500000</td>\n",
       "      <td>10.000000</td>\n",
       "      <td>1.105000</td>\n",
       "      <td>0.607500</td>\n",
       "      <td>1.330000</td>\n",
       "      <td>0.740000</td>\n",
       "      <td>1.000000</td>\n",
       "      <td>0.000000</td>\n",
       "      <td>1.000000</td>\n",
       "      <td>...</td>\n",
       "      <td>2.830000</td>\n",
       "      <td>1.637500</td>\n",
       "      <td>3.330000</td>\n",
       "      <td>2.547500</td>\n",
       "      <td>1.187500</td>\n",
       "      <td>1.610000</td>\n",
       "      <td>2.500000</td>\n",
       "      <td>4.500000</td>\n",
       "      <td>1.750000</td>\n",
       "      <td>1.690000</td>\n",
       "    </tr>\n",
       "    <tr>\n",
       "      <th>50%</th>\n",
       "      <td>1.514175e+09</td>\n",
       "      <td>31545.000000</td>\n",
       "      <td>19.500000</td>\n",
       "      <td>1.400000</td>\n",
       "      <td>0.865000</td>\n",
       "      <td>1.420000</td>\n",
       "      <td>0.865000</td>\n",
       "      <td>1.000000</td>\n",
       "      <td>1.000000</td>\n",
       "      <td>3.000000</td>\n",
       "      <td>...</td>\n",
       "      <td>3.300000</td>\n",
       "      <td>2.265000</td>\n",
       "      <td>3.715000</td>\n",
       "      <td>3.545000</td>\n",
       "      <td>1.270000</td>\n",
       "      <td>1.870000</td>\n",
       "      <td>3.200000</td>\n",
       "      <td>6.450000</td>\n",
       "      <td>1.910000</td>\n",
       "      <td>1.830000</td>\n",
       "    </tr>\n",
       "    <tr>\n",
       "      <th>75%</th>\n",
       "      <td>1.520089e+09</td>\n",
       "      <td>53272.250000</td>\n",
       "      <td>29.000000</td>\n",
       "      <td>2.000000</td>\n",
       "      <td>1.640000</td>\n",
       "      <td>2.027500</td>\n",
       "      <td>1.522500</td>\n",
       "      <td>2.000000</td>\n",
       "      <td>2.000000</td>\n",
       "      <td>4.000000</td>\n",
       "      <td>...</td>\n",
       "      <td>3.905000</td>\n",
       "      <td>2.955000</td>\n",
       "      <td>5.142500</td>\n",
       "      <td>5.827500</td>\n",
       "      <td>1.380000</td>\n",
       "      <td>2.150000</td>\n",
       "      <td>3.927500</td>\n",
       "      <td>8.600000</td>\n",
       "      <td>2.050000</td>\n",
       "      <td>2.000000</td>\n",
       "    </tr>\n",
       "    <tr>\n",
       "      <th>max</th>\n",
       "      <td>1.526220e+09</td>\n",
       "      <td>83222.000000</td>\n",
       "      <td>38.000000</td>\n",
       "      <td>3.000000</td>\n",
       "      <td>3.000000</td>\n",
       "      <td>2.630000</td>\n",
       "      <td>2.630000</td>\n",
       "      <td>7.000000</td>\n",
       "      <td>6.000000</td>\n",
       "      <td>9.000000</td>\n",
       "      <td>...</td>\n",
       "      <td>11.000000</td>\n",
       "      <td>9.990000</td>\n",
       "      <td>9.990000</td>\n",
       "      <td>9.990000</td>\n",
       "      <td>1.610000</td>\n",
       "      <td>2.900000</td>\n",
       "      <td>6.000000</td>\n",
       "      <td>15.000000</td>\n",
       "      <td>3.130000</td>\n",
       "      <td>2.650000</td>\n",
       "    </tr>\n",
       "  </tbody>\n",
       "</table>\n",
       "<p>8 rows × 58 columns</p>\n",
       "</div>"
      ],
      "text/plain": [
       "          timestamp    attendance   Game Week  Pre-Match PPG (Home)  \\\n",
       "count  3.800000e+02    380.000000  380.000000            380.000000   \n",
       "mean   1.514574e+09  38316.707895   19.500000              1.509105   \n",
       "std    6.827494e+06  17802.226732   10.980313              0.755472   \n",
       "min    1.502477e+09  10242.000000    1.000000              0.000000   \n",
       "25%    1.509199e+09  24102.500000   10.000000              1.105000   \n",
       "50%    1.514175e+09  31545.000000   19.500000              1.400000   \n",
       "75%    1.520089e+09  53272.250000   29.000000              2.000000   \n",
       "max    1.526220e+09  83222.000000   38.000000              3.000000   \n",
       "\n",
       "       Pre-Match PPG (Away)    home_ppg    away_ppg  home_team_goal_count  \\\n",
       "count            380.000000  380.000000  380.000000            380.000000   \n",
       "mean               1.105105    1.626000    1.112500              1.531579   \n",
       "std                0.793324    0.517686    0.534331              1.340087   \n",
       "min                0.000000    0.950000    0.580000              0.000000   \n",
       "25%                0.607500    1.330000    0.740000              1.000000   \n",
       "50%                0.865000    1.420000    0.865000              1.000000   \n",
       "75%                1.640000    2.027500    1.522500              2.000000   \n",
       "max                3.000000    2.630000    2.630000              7.000000   \n",
       "\n",
       "       away_team_goal_count  total_goal_count  ...  \\\n",
       "count            380.000000        380.000000  ...   \n",
       "mean               1.147368          2.678947  ...   \n",
       "std                1.177793          1.665125  ...   \n",
       "min                0.000000          0.000000  ...   \n",
       "25%                0.000000          1.000000  ...   \n",
       "50%                1.000000          3.000000  ...   \n",
       "75%                2.000000          4.000000  ...   \n",
       "max                6.000000          9.000000  ...   \n",
       "\n",
       "       average_cards_per_match_pre_match  odds_ft_home_team_win  odds_ft_draw  \\\n",
       "count                         380.000000             380.000000    380.000000   \n",
       "mean                            3.228684               3.055632      4.425474   \n",
       "std                             1.197882               2.272880      1.619347   \n",
       "min                             0.000000               0.000000      0.000000   \n",
       "25%                             2.830000               1.637500      3.330000   \n",
       "50%                             3.300000               2.265000      3.715000   \n",
       "75%                             3.905000               2.955000      5.142500   \n",
       "max                            11.000000               9.990000      9.990000   \n",
       "\n",
       "       odds_ft_away_team_win  odds_ft_over15  odds_ft_over25  odds_ft_over35  \\\n",
       "count             380.000000      380.000000      380.000000      380.000000   \n",
       "mean                4.586474        1.263368        1.880211        3.243632   \n",
       "std                 2.986443        0.209504        0.404690        1.020293   \n",
       "min                 0.000000        0.000000        0.000000        0.000000   \n",
       "25%                 2.547500        1.187500        1.610000        2.500000   \n",
       "50%                 3.545000        1.270000        1.870000        3.200000   \n",
       "75%                 5.827500        1.380000        2.150000        3.927500   \n",
       "max                 9.990000        1.610000        2.900000        6.000000   \n",
       "\n",
       "       odds_ft_over45  odds_btts_yes  odds_btts_no  \n",
       "count      380.000000     380.000000    380.000000  \n",
       "mean         6.732974       1.878553      1.827105  \n",
       "std          2.885210       0.356175      0.347720  \n",
       "min          0.000000       0.000000      0.000000  \n",
       "25%          4.500000       1.750000      1.690000  \n",
       "50%          6.450000       1.910000      1.830000  \n",
       "75%          8.600000       2.050000      2.000000  \n",
       "max         15.000000       3.130000      2.650000  \n",
       "\n",
       "[8 rows x 58 columns]"
      ]
     },
     "execution_count": 85,
     "metadata": {},
     "output_type": "execute_result"
    }
   ],
   "source": [
    "df.describe()"
   ]
  },
  {
   "cell_type": "code",
   "execution_count": 87,
   "metadata": {},
   "outputs": [
    {
     "name": "stdout",
     "output_type": "stream",
     "text": [
      "<class 'pandas.core.frame.DataFrame'>\n",
      "RangeIndex: 380 entries, 0 to 379\n",
      "Data columns (total 66 columns):\n",
      " #   Column                               Non-Null Count  Dtype  \n",
      "---  ------                               --------------  -----  \n",
      " 0   timestamp                            380 non-null    int64  \n",
      " 1   date_GMT                             380 non-null    object \n",
      " 2   status                               380 non-null    object \n",
      " 3   attendance                           380 non-null    int64  \n",
      " 4   home_team_name                       380 non-null    object \n",
      " 5   away_team_name                       380 non-null    object \n",
      " 6   referee                              373 non-null    object \n",
      " 7   Game Week                            380 non-null    int64  \n",
      " 8   Pre-Match PPG (Home)                 380 non-null    float64\n",
      " 9   Pre-Match PPG (Away)                 380 non-null    float64\n",
      " 10  home_ppg                             380 non-null    float64\n",
      " 11  away_ppg                             380 non-null    float64\n",
      " 12  home_team_goal_count                 380 non-null    int64  \n",
      " 13  away_team_goal_count                 380 non-null    int64  \n",
      " 14  total_goal_count                     380 non-null    int64  \n",
      " 15  total_goals_at_half_time             380 non-null    int64  \n",
      " 16  home_team_goal_count_half_time       380 non-null    int64  \n",
      " 17  away_team_goal_count_half_time       380 non-null    int64  \n",
      " 18  home_team_goal_timings               290 non-null    object \n",
      " 19  away_team_goal_timings               244 non-null    object \n",
      " 20  home_team_corner_count               380 non-null    int64  \n",
      " 21  away_team_corner_count               380 non-null    int64  \n",
      " 22  home_team_yellow_cards               380 non-null    int64  \n",
      " 23  home_team_red_cards                  380 non-null    int64  \n",
      " 24  away_team_yellow_cards               380 non-null    int64  \n",
      " 25  away_team_red_cards                  380 non-null    int64  \n",
      " 26  home_team_first_half_cards           380 non-null    int64  \n",
      " 27  home_team_second_half_cards          380 non-null    int64  \n",
      " 28  away_team_first_half_cards           380 non-null    int64  \n",
      " 29  away_team_second_half_cards          380 non-null    int64  \n",
      " 30  home_team_shots                      380 non-null    int64  \n",
      " 31  away_team_shots                      380 non-null    int64  \n",
      " 32  home_team_shots_on_target            380 non-null    int64  \n",
      " 33  away_team_shots_on_target            380 non-null    int64  \n",
      " 34  home_team_shots_off_target           380 non-null    int64  \n",
      " 35  away_team_shots_off_target           380 non-null    int64  \n",
      " 36  home_team_fouls                      380 non-null    int64  \n",
      " 37  away_team_fouls                      380 non-null    int64  \n",
      " 38  home_team_possession                 380 non-null    int64  \n",
      " 39  away_team_possession                 380 non-null    int64  \n",
      " 40  Home Team Pre-Match xG               380 non-null    float64\n",
      " 41  Away Team Pre-Match xG               380 non-null    float64\n",
      " 42  team_a_xg                            380 non-null    float64\n",
      " 43  team_b_xg                            380 non-null    float64\n",
      " 44  average_goals_per_match_pre_match    380 non-null    float64\n",
      " 45  btts_percentage_pre_match            380 non-null    int64  \n",
      " 46  over_15_percentage_pre_match         380 non-null    int64  \n",
      " 47  over_25_percentage_pre_match         380 non-null    int64  \n",
      " 48  over_35_percentage_pre_match         380 non-null    int64  \n",
      " 49  over_45_percentage_pre_match         380 non-null    int64  \n",
      " 50  over_15_HT_FHG_percentage_pre_match  380 non-null    int64  \n",
      " 51  over_05_HT_FHG_percentage_pre_match  380 non-null    int64  \n",
      " 52  over_15_2HG_percentage_pre_match     380 non-null    int64  \n",
      " 53  over_05_2HG_percentage_pre_match     380 non-null    int64  \n",
      " 54  average_corners_per_match_pre_match  380 non-null    float64\n",
      " 55  average_cards_per_match_pre_match    380 non-null    float64\n",
      " 56  odds_ft_home_team_win                380 non-null    float64\n",
      " 57  odds_ft_draw                         380 non-null    float64\n",
      " 58  odds_ft_away_team_win                380 non-null    float64\n",
      " 59  odds_ft_over15                       380 non-null    float64\n",
      " 60  odds_ft_over25                       380 non-null    float64\n",
      " 61  odds_ft_over35                       380 non-null    float64\n",
      " 62  odds_ft_over45                       380 non-null    float64\n",
      " 63  odds_btts_yes                        380 non-null    float64\n",
      " 64  odds_btts_no                         380 non-null    float64\n",
      " 65  stadium_name                         380 non-null    object \n",
      "dtypes: float64(20), int64(38), object(8)\n",
      "memory usage: 196.1+ KB\n"
     ]
    }
   ],
   "source": [
    "df.info()"
   ]
  },
  {
   "cell_type": "code",
   "execution_count": 64,
   "metadata": {},
   "outputs": [],
   "source": [
    "data = df.copy()"
   ]
  },
  {
   "cell_type": "code",
   "execution_count": 67,
   "metadata": {},
   "outputs": [
    {
     "data": {
      "text/plain": [
       "(380, 66)"
      ]
     },
     "execution_count": 67,
     "metadata": {},
     "output_type": "execute_result"
    }
   ],
   "source": [
    "df.shape"
   ]
  },
  {
   "cell_type": "code",
   "execution_count": 68,
   "metadata": {},
   "outputs": [
    {
     "data": {
      "text/plain": [
       "referee                     7\n",
       "home_team_goal_timings     90\n",
       "away_team_goal_timings    136\n",
       "dtype: int64"
      ]
     },
     "execution_count": 68,
     "metadata": {},
     "output_type": "execute_result"
    }
   ],
   "source": [
    "df.isnull().sum()[data.isnull().sum() > 0]"
   ]
  },
  {
   "cell_type": "code",
   "execution_count": 69,
   "metadata": {},
   "outputs": [],
   "source": [
    "data = df.drop(['referee', 'home_team_goal_timings', 'away_team_goal_timings'], axis=1)"
   ]
  },
  {
   "cell_type": "code",
   "execution_count": 71,
   "metadata": {},
   "outputs": [
    {
     "data": {
      "text/plain": [
       "(380, 63)"
      ]
     },
     "execution_count": 71,
     "metadata": {},
     "output_type": "execute_result"
    }
   ],
   "source": [
    "data.shape"
   ]
  },
  {
   "cell_type": "code",
   "execution_count": 72,
   "metadata": {},
   "outputs": [
    {
     "data": {
      "text/plain": [
       "0"
      ]
     },
     "execution_count": 72,
     "metadata": {},
     "output_type": "execute_result"
    }
   ],
   "source": [
    "data.isnull().sum().sum()"
   ]
  },
  {
   "cell_type": "code",
   "execution_count": 63,
   "metadata": {},
   "outputs": [],
   "source": [
    "target_columns = ['home_team_goal_count', 'away_team_goal_count']"
   ]
  },
  {
   "cell_type": "code",
   "execution_count": 91,
   "metadata": {},
   "outputs": [],
   "source": [
    "non_numeric_columns = ['date_GMT', 'status', 'home_team_name', 'away_team_name', 'referee',\n",
    "                        'home_team_goal_timings', 'away_team_goal_timings', 'stadium_name']\n",
    "\n",
    "X = df.drop(target_columns + non_numeric_columns, axis=1)\n",
    "y = df[target_columns]"
   ]
  },
  {
   "cell_type": "code",
   "execution_count": 92,
   "metadata": {},
   "outputs": [],
   "source": [
    "X_train, X_test, y_train, y_test = train_test_split(X, y, test_size=0.2, random_state=42)"
   ]
  },
  {
   "cell_type": "code",
   "execution_count": 93,
   "metadata": {},
   "outputs": [],
   "source": [
    "scaler = StandardScaler()\n",
    "X_train_scaled = scaler.fit_transform(X_train)\n",
    "X_test_scaled = scaler.transform(X_test)"
   ]
  },
  {
   "cell_type": "code",
   "execution_count": 96,
   "metadata": {},
   "outputs": [],
   "source": [
    "def create_sequences(data, target, sequence_length=10):\n",
    "    sequences, targets = [], []\n",
    "    for i in range(len(data) - sequence_length + 1):\n",
    "        seq = data[i:i+sequence_length]\n",
    "        label = target[i+sequence_length-1]\n",
    "        sequences.append(seq)\n",
    "        targets.append(label)\n",
    "    return np.array(sequences), np.array(targets)"
   ]
  },
  {
   "cell_type": "code",
   "execution_count": 97,
   "metadata": {},
   "outputs": [],
   "source": [
    "sequence_length = 10\n",
    "X_train_seq, y_train_seq = create_sequences(X_train_scaled, y_train.values, sequence_length)\n",
    "X_test_seq, y_test_seq = create_sequences(X_test_scaled, y_test.values, sequence_length)"
   ]
  },
  {
   "cell_type": "code",
   "execution_count": 98,
   "metadata": {},
   "outputs": [
    {
     "name": "stdout",
     "output_type": "stream",
     "text": [
      "WARNING:tensorflow:From c:\\ProgramData\\anaconda3\\envs\\magisterka_env\\Lib\\site-packages\\keras\\src\\backend.py:873: The name tf.get_default_graph is deprecated. Please use tf.compat.v1.get_default_graph instead.\n",
      "\n",
      "WARNING:tensorflow:From c:\\ProgramData\\anaconda3\\envs\\magisterka_env\\Lib\\site-packages\\keras\\src\\optimizers\\__init__.py:309: The name tf.train.Optimizer is deprecated. Please use tf.compat.v1.train.Optimizer instead.\n",
      "\n"
     ]
    }
   ],
   "source": [
    "model = Sequential()\n",
    "model.add(LSTM(50, input_shape=(X_train_seq.shape[1], X_train_seq.shape[2])))\n",
    "model.add(Dense(2, activation='linear'))\n",
    "model.compile(loss='mean_squared_error', optimizer='adam')"
   ]
  },
  {
   "cell_type": "code",
   "execution_count": 112,
   "metadata": {},
   "outputs": [
    {
     "name": "stdout",
     "output_type": "stream",
     "text": [
      "Epoch 1/50\n",
      "9/9 [==============================] - 0s 21ms/step - loss: 0.0294 - val_loss: 0.6611\n",
      "Epoch 2/50\n",
      "9/9 [==============================] - 0s 9ms/step - loss: 0.0274 - val_loss: 0.6624\n",
      "Epoch 3/50\n",
      "9/9 [==============================] - 0s 13ms/step - loss: 0.0257 - val_loss: 0.6487\n",
      "Epoch 4/50\n",
      "9/9 [==============================] - 0s 8ms/step - loss: 0.0236 - val_loss: 0.6569\n",
      "Epoch 5/50\n",
      "9/9 [==============================] - 0s 10ms/step - loss: 0.0212 - val_loss: 0.6486\n",
      "Epoch 6/50\n",
      "9/9 [==============================] - 0s 12ms/step - loss: 0.0193 - val_loss: 0.6487\n",
      "Epoch 7/50\n",
      "9/9 [==============================] - 0s 10ms/step - loss: 0.0179 - val_loss: 0.6514\n",
      "Epoch 8/50\n",
      "9/9 [==============================] - 0s 14ms/step - loss: 0.0168 - val_loss: 0.6540\n",
      "Epoch 9/50\n",
      "9/9 [==============================] - 0s 9ms/step - loss: 0.0153 - val_loss: 0.6475\n",
      "Epoch 10/50\n",
      "9/9 [==============================] - 0s 9ms/step - loss: 0.0142 - val_loss: 0.6515\n",
      "Epoch 11/50\n",
      "9/9 [==============================] - 0s 10ms/step - loss: 0.0130 - val_loss: 0.6452\n",
      "Epoch 12/50\n",
      "9/9 [==============================] - 0s 9ms/step - loss: 0.0122 - val_loss: 0.6481\n",
      "Epoch 13/50\n",
      "9/9 [==============================] - 0s 12ms/step - loss: 0.0111 - val_loss: 0.6442\n",
      "Epoch 14/50\n",
      "9/9 [==============================] - 0s 10ms/step - loss: 0.0103 - val_loss: 0.6457\n",
      "Epoch 15/50\n",
      "9/9 [==============================] - 0s 13ms/step - loss: 0.0095 - val_loss: 0.6484\n",
      "Epoch 16/50\n",
      "9/9 [==============================] - 0s 8ms/step - loss: 0.0086 - val_loss: 0.6433\n",
      "Epoch 17/50\n",
      "9/9 [==============================] - 0s 9ms/step - loss: 0.0078 - val_loss: 0.6437\n",
      "Epoch 18/50\n",
      "9/9 [==============================] - 0s 8ms/step - loss: 0.0073 - val_loss: 0.6385\n",
      "Epoch 19/50\n",
      "9/9 [==============================] - 0s 8ms/step - loss: 0.0067 - val_loss: 0.6420\n",
      "Epoch 20/50\n",
      "9/9 [==============================] - 0s 8ms/step - loss: 0.0062 - val_loss: 0.6429\n",
      "Epoch 21/50\n",
      "9/9 [==============================] - 0s 9ms/step - loss: 0.0057 - val_loss: 0.6441\n",
      "Epoch 22/50\n",
      "9/9 [==============================] - 0s 8ms/step - loss: 0.0051 - val_loss: 0.6415\n",
      "Epoch 23/50\n",
      "9/9 [==============================] - 0s 11ms/step - loss: 0.0047 - val_loss: 0.6418\n",
      "Epoch 24/50\n",
      "9/9 [==============================] - 0s 8ms/step - loss: 0.0044 - val_loss: 0.6429\n",
      "Epoch 25/50\n",
      "9/9 [==============================] - 0s 8ms/step - loss: 0.0040 - val_loss: 0.6412\n",
      "Epoch 26/50\n",
      "9/9 [==============================] - 0s 8ms/step - loss: 0.0037 - val_loss: 0.6411\n",
      "Epoch 27/50\n",
      "9/9 [==============================] - 0s 14ms/step - loss: 0.0034 - val_loss: 0.6446\n",
      "Epoch 28/50\n",
      "9/9 [==============================] - 0s 9ms/step - loss: 0.0032 - val_loss: 0.6418\n",
      "Epoch 29/50\n",
      "9/9 [==============================] - 0s 9ms/step - loss: 0.0028 - val_loss: 0.6387\n",
      "Epoch 30/50\n",
      "9/9 [==============================] - 0s 9ms/step - loss: 0.0026 - val_loss: 0.6408\n",
      "Epoch 31/50\n",
      "9/9 [==============================] - 0s 10ms/step - loss: 0.0024 - val_loss: 0.6403\n",
      "Epoch 32/50\n",
      "9/9 [==============================] - 0s 9ms/step - loss: 0.0022 - val_loss: 0.6393\n",
      "Epoch 33/50\n",
      "9/9 [==============================] - 0s 10ms/step - loss: 0.0020 - val_loss: 0.6417\n",
      "Epoch 34/50\n",
      "9/9 [==============================] - 0s 9ms/step - loss: 0.0018 - val_loss: 0.6388\n",
      "Epoch 35/50\n",
      "9/9 [==============================] - 0s 8ms/step - loss: 0.0017 - val_loss: 0.6388\n",
      "Epoch 36/50\n",
      "9/9 [==============================] - 0s 8ms/step - loss: 0.0016 - val_loss: 0.6398\n",
      "Epoch 37/50\n",
      "9/9 [==============================] - 0s 9ms/step - loss: 0.0014 - val_loss: 0.6395\n",
      "Epoch 38/50\n",
      "9/9 [==============================] - 0s 9ms/step - loss: 0.0013 - val_loss: 0.6392\n",
      "Epoch 39/50\n",
      "9/9 [==============================] - 0s 9ms/step - loss: 0.0012 - val_loss: 0.6390\n",
      "Epoch 40/50\n",
      "9/9 [==============================] - 0s 9ms/step - loss: 0.0011 - val_loss: 0.6378\n",
      "Epoch 41/50\n",
      "9/9 [==============================] - 0s 9ms/step - loss: 0.0010 - val_loss: 0.6387\n",
      "Epoch 42/50\n",
      "9/9 [==============================] - 0s 9ms/step - loss: 9.3978e-04 - val_loss: 0.6371\n",
      "Epoch 43/50\n",
      "9/9 [==============================] - 0s 9ms/step - loss: 8.7385e-04 - val_loss: 0.6369\n",
      "Epoch 44/50\n",
      "9/9 [==============================] - 0s 9ms/step - loss: 8.1334e-04 - val_loss: 0.6370\n",
      "Epoch 45/50\n",
      "9/9 [==============================] - 0s 9ms/step - loss: 7.5154e-04 - val_loss: 0.6375\n",
      "Epoch 46/50\n",
      "9/9 [==============================] - 0s 9ms/step - loss: 6.7678e-04 - val_loss: 0.6352\n",
      "Epoch 47/50\n",
      "9/9 [==============================] - 0s 9ms/step - loss: 6.1991e-04 - val_loss: 0.6373\n",
      "Epoch 48/50\n",
      "9/9 [==============================] - 0s 9ms/step - loss: 5.5353e-04 - val_loss: 0.6368\n",
      "Epoch 49/50\n",
      "9/9 [==============================] - 0s 12ms/step - loss: 5.1823e-04 - val_loss: 0.6368\n",
      "Epoch 50/50\n",
      "9/9 [==============================] - 0s 8ms/step - loss: 4.7777e-04 - val_loss: 0.6369\n"
     ]
    }
   ],
   "source": [
    "history = model.fit(X_train_seq, y_train_seq, epochs=50, batch_size=32, validation_split=0.1, verbose=1)"
   ]
  },
  {
   "cell_type": "code",
   "execution_count": 100,
   "metadata": {},
   "outputs": [
    {
     "name": "stdout",
     "output_type": "stream",
     "text": [
      "3/3 [==============================] - 0s 3ms/step\n"
     ]
    }
   ],
   "source": [
    "y_pred = model.predict(X_test_seq)"
   ]
  },
  {
   "cell_type": "code",
   "execution_count": 109,
   "metadata": {},
   "outputs": [
    {
     "name": "stdout",
     "output_type": "stream",
     "text": [
      "Root Mean Squared Error on Test Set: 0.6566698497246275\n"
     ]
    }
   ],
   "source": [
    "rmse = np.sqrt(np.mean((y_test_seq - y_pred)**2))\n",
    "print(f'Root Mean Squared Error on Test Set: {rmse}')"
   ]
  },
  {
   "cell_type": "code",
   "execution_count": 108,
   "metadata": {},
   "outputs": [
    {
     "data": {
      "text/plain": [
       "array([[ 0,  0,  0,  0,  0,  0,  0,  0,  0],\n",
       "       [ 1, 23, 14,  0,  0,  0,  0,  0,  0],\n",
       "       [ 0,  7, 36,  5,  1,  0,  0,  0,  0],\n",
       "       [ 0,  1,  8, 19,  1,  0,  0,  0,  0],\n",
       "       [ 0,  0,  1,  5,  4,  1,  0,  0,  0],\n",
       "       [ 0,  0,  0,  1,  2,  0,  0,  0,  0],\n",
       "       [ 0,  0,  0,  0,  0,  2,  0,  0,  0],\n",
       "       [ 0,  0,  0,  0,  0,  1,  0,  0,  0],\n",
       "       [ 0,  0,  0,  0,  0,  0,  0,  1,  0]], dtype=int64)"
      ]
     },
     "execution_count": 108,
     "metadata": {},
     "output_type": "execute_result"
    }
   ],
   "source": [
    "y_pred_discrete = np.round(y_pred).astype(int)\n",
    "confusion_matrix(y_test_seq.flatten(), y_pred_discrete.flatten())"
   ]
  },
  {
   "cell_type": "code",
   "execution_count": 107,
   "metadata": {},
   "outputs": [
    {
     "data": {
      "text/plain": [
       "0.6119402985074627"
      ]
     },
     "execution_count": 107,
     "metadata": {},
     "output_type": "execute_result"
    }
   ],
   "source": [
    "accuracy_score(y_test_seq.flatten(), y_pred_discrete.flatten())"
   ]
  },
  {
   "cell_type": "code",
   "execution_count": null,
   "metadata": {},
   "outputs": [],
   "source": []
  }
 ],
 "metadata": {
  "kernelspec": {
   "display_name": "magisterka_env",
   "language": "python",
   "name": "python3"
  },
  "language_info": {
   "codemirror_mode": {
    "name": "ipython",
    "version": 3
   },
   "file_extension": ".py",
   "mimetype": "text/x-python",
   "name": "python",
   "nbconvert_exporter": "python",
   "pygments_lexer": "ipython3",
   "version": "3.11.5"
  }
 },
 "nbformat": 4,
 "nbformat_minor": 2
}
