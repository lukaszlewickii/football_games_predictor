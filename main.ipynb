{
 "cells": [
  {
   "cell_type": "code",
   "execution_count": 1,
   "metadata": {},
   "outputs": [],
   "source": [
    "import pandas as pd"
   ]
  },
  {
   "cell_type": "code",
   "execution_count": 2,
   "metadata": {},
   "outputs": [
    {
     "data": {
      "text/plain": [
       "['name',\n",
       " 'season',\n",
       " 'status',\n",
       " 'format',\n",
       " 'number_of_clubs',\n",
       " 'total_matches',\n",
       " 'matches_completed',\n",
       " 'game_week',\n",
       " 'total_game_week',\n",
       " 'progress',\n",
       " 'average_goals_per_match',\n",
       " 'average_scored_home_team',\n",
       " 'average_scored_away_team',\n",
       " 'btts_percentage',\n",
       " 'clean_sheets_percentage',\n",
       " 'prediction_risk',\n",
       " 'home_scored_advantage_percentage',\n",
       " 'home_defence_advantage_percentage',\n",
       " 'home_advantage_percentage',\n",
       " 'average_corners_per_match',\n",
       " 'average_corners_per_match_home_team',\n",
       " 'average_corners_per_match_away_team',\n",
       " 'total_corners_for_season',\n",
       " 'average_cards_per_match',\n",
       " 'average_cards_per_match_home_team',\n",
       " 'average_cards_per_match_away_team',\n",
       " 'total_cards_for_season',\n",
       " 'over_05_percentage',\n",
       " 'over_15_percentage',\n",
       " 'over_25_percentage',\n",
       " 'over_35_percentage',\n",
       " 'over_45_percentage',\n",
       " 'over_55_percentage',\n",
       " 'under_05_percentage',\n",
       " 'under_15_percentage',\n",
       " 'under_25_percentage',\n",
       " 'under_35_percentage',\n",
       " 'under_45_percentage',\n",
       " 'under_55_percentage',\n",
       " 'over_65_corners_percentage',\n",
       " 'over_75_corners_percentage',\n",
       " 'over_85_corners_percentage',\n",
       " 'over_95_corners_percentage',\n",
       " 'over_105_corners_percentage',\n",
       " 'over_115_corners_percentage',\n",
       " 'over_125_corners_percentage',\n",
       " 'over_135_corners_percentage',\n",
       " 'over_05_cards_percentage',\n",
       " 'over_15_cards_percentage',\n",
       " 'over_25_cards_percentage',\n",
       " 'over_35_cards_percentage',\n",
       " 'over_45_cards_percentage',\n",
       " 'over_55_cards_percentage',\n",
       " 'over_65_cards_percentage',\n",
       " 'over_75_cards_percentage',\n",
       " 'goals_min_0_to_10',\n",
       " 'goals_min_11_to_20',\n",
       " 'goals_min_21_to_30',\n",
       " 'goals_min_31_to_40',\n",
       " 'goals_min_41_to_50',\n",
       " 'goals_min_51_to_60',\n",
       " 'goals_min_61_to_70',\n",
       " 'goals_min_71_to_80',\n",
       " 'goals_min_81_to_90',\n",
       " 'goals_min_0_to_15',\n",
       " 'goals_min_16_to_30',\n",
       " 'goals_min_31_to_45',\n",
       " 'goals_min_46_to_60',\n",
       " 'goals_min_61_to_75',\n",
       " 'goals_min_76_to_90',\n",
       " 'xg_avg_per_match']"
      ]
     },
     "execution_count": 2,
     "metadata": {},
     "output_type": "execute_result"
    }
   ],
   "source": [
    "pd.read_csv('data/england-premier-league-league-2018-to-2019-stats.csv').columns.to_list()"
   ]
  },
  {
   "cell_type": "code",
   "execution_count": 3,
   "metadata": {},
   "outputs": [
    {
     "data": {
      "text/plain": [
       "(1, 71)"
      ]
     },
     "execution_count": 3,
     "metadata": {},
     "output_type": "execute_result"
    }
   ],
   "source": [
    "pd.read_csv('data/england-premier-league-league-2018-to-2019-stats.csv').shape"
   ]
  }
 ],
 "metadata": {
  "kernelspec": {
   "display_name": "magisterka_env",
   "language": "python",
   "name": "python3"
  },
  "language_info": {
   "codemirror_mode": {
    "name": "ipython",
    "version": 3
   },
   "file_extension": ".py",
   "mimetype": "text/x-python",
   "name": "python",
   "nbconvert_exporter": "python",
   "pygments_lexer": "ipython3",
   "version": "3.11.5"
  }
 },
 "nbformat": 4,
 "nbformat_minor": 2
}
