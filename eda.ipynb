{
 "cells": [
  {
   "cell_type": "markdown",
   "metadata": {},
   "source": [
    "# Libs imports and configs"
   ]
  },
  {
   "cell_type": "code",
   "execution_count": 5,
   "metadata": {},
   "outputs": [],
   "source": [
    "import pandas as pd\n",
    "import numpy as np\n",
    "import matplotlib.pyplot as plt\n",
    "import seaborn as sns\n",
    "import os"
   ]
  },
  {
   "cell_type": "code",
   "execution_count": 2,
   "metadata": {},
   "outputs": [],
   "source": [
    "pd.set_option('display.max_rows', 100)\n",
    "pd.set_option('display.max_columns', None)"
   ]
  },
  {
   "cell_type": "markdown",
   "metadata": {},
   "source": [
    "# Checking data completness"
   ]
  },
  {
   "cell_type": "code",
   "execution_count": 6,
   "metadata": {},
   "outputs": [],
   "source": [
    "def check_columns():\n",
    "    first_file_cols = None\n",
    "\n",
    "    for folder in os.listdir('./data'):\n",
    "        for file in os.listdir(f'./data/{folder}'):\n",
    "            data = pd.read_csv(f'./data/{folder}/{file}')\n",
    "            num_of_cols = data.shape[1]\n",
    "\n",
    "            if first_file_cols is None:\n",
    "                first_file_cols = num_of_cols\n",
    "            elif first_file_cols != num_of_cols:\n",
    "                return 'There is some mismatch somewhere in csvs'\n",
    "    \n",
    "    return 'Number of columns are matching'"
   ]
  },
  {
   "cell_type": "code",
   "execution_count": 7,
   "metadata": {},
   "outputs": [
    {
     "data": {
      "text/plain": [
       "'Number of columns are matching'"
      ]
     },
     "execution_count": 7,
     "metadata": {},
     "output_type": "execute_result"
    }
   ],
   "source": [
    "check_columns()"
   ]
  },
  {
   "cell_type": "code",
   "execution_count": 8,
   "metadata": {},
   "outputs": [],
   "source": [
    "data = pd.DataFrame()\n",
    "\n",
    "for folder in os.listdir('./data'):\n",
    "    for file in os.listdir(f'./data/{folder}'):\n",
    "        df = pd.read_csv(f'./data/{folder}/{file}')\n",
    "        data = pd.concat([data, df], ignore_index=True)"
   ]
  },
  {
   "cell_type": "markdown",
   "metadata": {},
   "source": [
    "# Basic data description"
   ]
  },
  {
   "cell_type": "code",
   "execution_count": 9,
   "metadata": {},
   "outputs": [
    {
     "data": {
      "text/plain": [
       "(25945, 66)"
      ]
     },
     "execution_count": 9,
     "metadata": {},
     "output_type": "execute_result"
    }
   ],
   "source": [
    "data.shape"
   ]
  },
  {
   "cell_type": "code",
   "execution_count": 10,
   "metadata": {},
   "outputs": [
    {
     "name": "stdout",
     "output_type": "stream",
     "text": [
      "<class 'pandas.core.frame.DataFrame'>\n",
      "RangeIndex: 25945 entries, 0 to 25944\n",
      "Data columns (total 66 columns):\n",
      " #   Column                               Non-Null Count  Dtype  \n",
      "---  ------                               --------------  -----  \n",
      " 0   timestamp                            25945 non-null  int64  \n",
      " 1   date_GMT                             25945 non-null  object \n",
      " 2   status                               25945 non-null  object \n",
      " 3   attendance                           20594 non-null  float64\n",
      " 4   home_team_name                       25945 non-null  object \n",
      " 5   away_team_name                       25945 non-null  object \n",
      " 6   referee                              16175 non-null  object \n",
      " 7   Game Week                            25184 non-null  float64\n",
      " 8   Pre-Match PPG (Home)                 25945 non-null  float64\n",
      " 9   Pre-Match PPG (Away)                 25945 non-null  float64\n",
      " 10  home_ppg                             25945 non-null  float64\n",
      " 11  away_ppg                             25945 non-null  float64\n",
      " 12  home_team_goal_count                 25945 non-null  int64  \n",
      " 13  away_team_goal_count                 25945 non-null  int64  \n",
      " 14  total_goal_count                     25945 non-null  int64  \n",
      " 15  total_goals_at_half_time             25945 non-null  int64  \n",
      " 16  home_team_goal_count_half_time       25945 non-null  int64  \n",
      " 17  away_team_goal_count_half_time       25945 non-null  int64  \n",
      " 18  home_team_goal_timings               19969 non-null  object \n",
      " 19  away_team_goal_timings               17448 non-null  object \n",
      " 20  home_team_corner_count               25945 non-null  int64  \n",
      " 21  away_team_corner_count               25945 non-null  int64  \n",
      " 22  home_team_yellow_cards               25945 non-null  int64  \n",
      " 23  home_team_red_cards                  25945 non-null  int64  \n",
      " 24  away_team_yellow_cards               25945 non-null  int64  \n",
      " 25  away_team_red_cards                  25945 non-null  int64  \n",
      " 26  home_team_first_half_cards           25945 non-null  int64  \n",
      " 27  home_team_second_half_cards          25945 non-null  int64  \n",
      " 28  away_team_first_half_cards           25945 non-null  int64  \n",
      " 29  away_team_second_half_cards          25945 non-null  int64  \n",
      " 30  home_team_shots                      25945 non-null  int64  \n",
      " 31  away_team_shots                      25945 non-null  int64  \n",
      " 32  home_team_shots_on_target            25945 non-null  int64  \n",
      " 33  away_team_shots_on_target            25945 non-null  int64  \n",
      " 34  home_team_shots_off_target           25945 non-null  int64  \n",
      " 35  away_team_shots_off_target           25945 non-null  int64  \n",
      " 36  home_team_fouls                      25945 non-null  int64  \n",
      " 37  away_team_fouls                      25945 non-null  int64  \n",
      " 38  home_team_possession                 25945 non-null  int64  \n",
      " 39  away_team_possession                 25945 non-null  int64  \n",
      " 40  Home Team Pre-Match xG               25945 non-null  float64\n",
      " 41  Away Team Pre-Match xG               25945 non-null  float64\n",
      " 42  team_a_xg                            25945 non-null  float64\n",
      " 43  team_b_xg                            25945 non-null  float64\n",
      " 44  average_goals_per_match_pre_match    25945 non-null  float64\n",
      " 45  btts_percentage_pre_match            25945 non-null  int64  \n",
      " 46  over_15_percentage_pre_match         25945 non-null  int64  \n",
      " 47  over_25_percentage_pre_match         25945 non-null  int64  \n",
      " 48  over_35_percentage_pre_match         25945 non-null  int64  \n",
      " 49  over_45_percentage_pre_match         25945 non-null  int64  \n",
      " 50  over_15_HT_FHG_percentage_pre_match  25945 non-null  int64  \n",
      " 51  over_05_HT_FHG_percentage_pre_match  25945 non-null  int64  \n",
      " 52  over_15_2HG_percentage_pre_match     25945 non-null  int64  \n",
      " 53  over_05_2HG_percentage_pre_match     25945 non-null  int64  \n",
      " 54  average_corners_per_match_pre_match  25945 non-null  float64\n",
      " 55  average_cards_per_match_pre_match    25945 non-null  float64\n",
      " 56  odds_ft_home_team_win                25945 non-null  float64\n",
      " 57  odds_ft_draw                         25945 non-null  float64\n",
      " 58  odds_ft_away_team_win                25945 non-null  float64\n",
      " 59  odds_ft_over15                       25945 non-null  float64\n",
      " 60  odds_ft_over25                       25945 non-null  float64\n",
      " 61  odds_ft_over35                       25945 non-null  float64\n",
      " 62  odds_ft_over45                       25945 non-null  float64\n",
      " 63  odds_btts_yes                        25945 non-null  float64\n",
      " 64  odds_btts_no                         25945 non-null  float64\n",
      " 65  stadium_name                         25844 non-null  object \n",
      "dtypes: float64(22), int64(36), object(8)\n",
      "memory usage: 13.1+ MB\n"
     ]
    }
   ],
   "source": [
    "data.info()"
   ]
  },
  {
   "cell_type": "markdown",
   "metadata": {},
   "source": [
    "# Setting first target variable - result of the game"
   ]
  },
  {
   "cell_type": "code",
   "execution_count": 11,
   "metadata": {},
   "outputs": [],
   "source": [
    "data['result'] = np.where(data['home_team_goal_count'] == data['away_team_goal_count'], 0, np.where(data['home_team_goal_count'] > data['away_team_goal_count'], 1, 2))"
   ]
  },
  {
   "cell_type": "code",
   "execution_count": 13,
   "metadata": {},
   "outputs": [
    {
     "data": {
      "text/plain": [
       "result\n",
       "1    11705\n",
       "2     7611\n",
       "0     6629\n",
       "Name: count, dtype: int64"
      ]
     },
     "execution_count": 13,
     "metadata": {},
     "output_type": "execute_result"
    }
   ],
   "source": [
    "#11,705 wins by home team, 7,611 wins by away team, 6,629 draws\n",
    "data['result'].value_counts()"
   ]
  },
  {
   "cell_type": "code",
   "execution_count": null,
   "metadata": {},
   "outputs": [],
   "source": []
  }
 ],
 "metadata": {
  "kernelspec": {
   "display_name": "magisterka_env",
   "language": "python",
   "name": "python3"
  },
  "language_info": {
   "codemirror_mode": {
    "name": "ipython",
    "version": 3
   },
   "file_extension": ".py",
   "mimetype": "text/x-python",
   "name": "python",
   "nbconvert_exporter": "python",
   "pygments_lexer": "ipython3",
   "version": "3.11.5"
  }
 },
 "nbformat": 4,
 "nbformat_minor": 2
}
