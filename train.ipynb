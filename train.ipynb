{
 "cells": [
  {
   "cell_type": "code",
   "execution_count": 2,
   "metadata": {},
   "outputs": [],
   "source": [
    "#env -> magisterka_env\n",
    "\n",
    "import numpy as np\n",
    "import tensorflow as tf\n",
    "from sklearn.model_selection import train_test_split\n",
    "from sklearn.preprocessing import StandardScaler"
   ]
  },
  {
   "cell_type": "code",
   "execution_count": 3,
   "metadata": {},
   "outputs": [],
   "source": [
    "#totally random dataset for testing\n",
    "\n",
    "X = np.random.rand(100, 5)\n",
    "y = np.random.choice([-1,0,1], size=(100,))"
   ]
  },
  {
   "cell_type": "code",
   "execution_count": 5,
   "metadata": {},
   "outputs": [],
   "source": [
    "X_train, X_test, y_train, y_test = train_test_split(X, y, test_size=0.2, random_state=42)"
   ]
  },
  {
   "cell_type": "code",
   "execution_count": 6,
   "metadata": {},
   "outputs": [],
   "source": [
    "scaler = StandardScaler()\n",
    "X_train = scaler.fit_transform(X_train)\n",
    "X_test = scaler.transform(X_test)"
   ]
  },
  {
   "cell_type": "code",
   "execution_count": 7,
   "metadata": {},
   "outputs": [
    {
     "name": "stdout",
     "output_type": "stream",
     "text": [
      "WARNING:tensorflow:From c:\\ProgramData\\anaconda3\\envs\\magisterka_env\\Lib\\site-packages\\keras\\src\\backend.py:873: The name tf.get_default_graph is deprecated. Please use tf.compat.v1.get_default_graph instead.\n",
      "\n"
     ]
    }
   ],
   "source": [
    "model = tf.keras.Sequential([\n",
    "    tf.keras.layers.Dense(10, activation='relu', input_shape=(X_train.shape[1],)),\n",
    "    tf.keras.layers.Dense(1, activation='linear')\n",
    "])"
   ]
  },
  {
   "cell_type": "code",
   "execution_count": 8,
   "metadata": {},
   "outputs": [
    {
     "name": "stdout",
     "output_type": "stream",
     "text": [
      "WARNING:tensorflow:From c:\\ProgramData\\anaconda3\\envs\\magisterka_env\\Lib\\site-packages\\keras\\src\\optimizers\\__init__.py:309: The name tf.train.Optimizer is deprecated. Please use tf.compat.v1.train.Optimizer instead.\n",
      "\n"
     ]
    }
   ],
   "source": [
    "#model compile\n",
    "model.compile(optimizer='adam', loss='mean_squared_error', metrics=['accuracy'])"
   ]
  },
  {
   "cell_type": "code",
   "execution_count": 9,
   "metadata": {},
   "outputs": [
    {
     "name": "stdout",
     "output_type": "stream",
     "text": [
      "Epoch 1/50\n",
      "WARNING:tensorflow:From c:\\ProgramData\\anaconda3\\envs\\magisterka_env\\Lib\\site-packages\\keras\\src\\utils\\tf_utils.py:492: The name tf.ragged.RaggedTensorValue is deprecated. Please use tf.compat.v1.ragged.RaggedTensorValue instead.\n",
      "\n",
      "WARNING:tensorflow:From c:\\ProgramData\\anaconda3\\envs\\magisterka_env\\Lib\\site-packages\\keras\\src\\engine\\base_layer_utils.py:384: The name tf.executing_eagerly_outside_functions is deprecated. Please use tf.compat.v1.executing_eagerly_outside_functions instead.\n",
      "\n",
      "3/3 [==============================] - 1s 122ms/step - loss: 1.7940 - accuracy: 0.2625 - val_loss: 1.3133 - val_accuracy: 0.3000\n",
      "Epoch 2/50\n",
      "3/3 [==============================] - 0s 20ms/step - loss: 1.7462 - accuracy: 0.2750 - val_loss: 1.2886 - val_accuracy: 0.3000\n",
      "Epoch 3/50\n",
      "3/3 [==============================] - 0s 19ms/step - loss: 1.7028 - accuracy: 0.2750 - val_loss: 1.2643 - val_accuracy: 0.3000\n",
      "Epoch 4/50\n",
      "3/3 [==============================] - 0s 21ms/step - loss: 1.6645 - accuracy: 0.2750 - val_loss: 1.2407 - val_accuracy: 0.3500\n",
      "Epoch 5/50\n",
      "3/3 [==============================] - 0s 20ms/step - loss: 1.6238 - accuracy: 0.2750 - val_loss: 1.2180 - val_accuracy: 0.3500\n",
      "Epoch 6/50\n",
      "3/3 [==============================] - 0s 19ms/step - loss: 1.5858 - accuracy: 0.2750 - val_loss: 1.1962 - val_accuracy: 0.3500\n",
      "Epoch 7/50\n",
      "3/3 [==============================] - 0s 19ms/step - loss: 1.5522 - accuracy: 0.2875 - val_loss: 1.1750 - val_accuracy: 0.3500\n",
      "Epoch 8/50\n",
      "3/3 [==============================] - 0s 20ms/step - loss: 1.5181 - accuracy: 0.2875 - val_loss: 1.1550 - val_accuracy: 0.3500\n",
      "Epoch 9/50\n",
      "3/3 [==============================] - 0s 20ms/step - loss: 1.4844 - accuracy: 0.2875 - val_loss: 1.1355 - val_accuracy: 0.3500\n",
      "Epoch 10/50\n",
      "3/3 [==============================] - 0s 35ms/step - loss: 1.4513 - accuracy: 0.2875 - val_loss: 1.1168 - val_accuracy: 0.3500\n",
      "Epoch 11/50\n",
      "3/3 [==============================] - 0s 19ms/step - loss: 1.4260 - accuracy: 0.2875 - val_loss: 1.0983 - val_accuracy: 0.3500\n",
      "Epoch 12/50\n",
      "3/3 [==============================] - 0s 18ms/step - loss: 1.3934 - accuracy: 0.3125 - val_loss: 1.0815 - val_accuracy: 0.3500\n",
      "Epoch 13/50\n",
      "3/3 [==============================] - 0s 19ms/step - loss: 1.3645 - accuracy: 0.3125 - val_loss: 1.0651 - val_accuracy: 0.3500\n",
      "Epoch 14/50\n",
      "3/3 [==============================] - 0s 20ms/step - loss: 1.3391 - accuracy: 0.3000 - val_loss: 1.0499 - val_accuracy: 0.4000\n",
      "Epoch 15/50\n",
      "3/3 [==============================] - 0s 18ms/step - loss: 1.3113 - accuracy: 0.3000 - val_loss: 1.0357 - val_accuracy: 0.4500\n",
      "Epoch 16/50\n",
      "3/3 [==============================] - 0s 19ms/step - loss: 1.2872 - accuracy: 0.3000 - val_loss: 1.0218 - val_accuracy: 0.4500\n",
      "Epoch 17/50\n",
      "3/3 [==============================] - 0s 18ms/step - loss: 1.2642 - accuracy: 0.3000 - val_loss: 1.0080 - val_accuracy: 0.4500\n",
      "Epoch 18/50\n",
      "3/3 [==============================] - 0s 19ms/step - loss: 1.2430 - accuracy: 0.3000 - val_loss: 0.9954 - val_accuracy: 0.4500\n",
      "Epoch 19/50\n",
      "3/3 [==============================] - 0s 19ms/step - loss: 1.2203 - accuracy: 0.3000 - val_loss: 0.9830 - val_accuracy: 0.4500\n",
      "Epoch 20/50\n",
      "3/3 [==============================] - 0s 20ms/step - loss: 1.2010 - accuracy: 0.3125 - val_loss: 0.9707 - val_accuracy: 0.4500\n",
      "Epoch 21/50\n",
      "3/3 [==============================] - 0s 19ms/step - loss: 1.1819 - accuracy: 0.3125 - val_loss: 0.9588 - val_accuracy: 0.4500\n",
      "Epoch 22/50\n",
      "3/3 [==============================] - 0s 18ms/step - loss: 1.1630 - accuracy: 0.3125 - val_loss: 0.9475 - val_accuracy: 0.4500\n",
      "Epoch 23/50\n",
      "3/3 [==============================] - 0s 18ms/step - loss: 1.1461 - accuracy: 0.3125 - val_loss: 0.9369 - val_accuracy: 0.4500\n",
      "Epoch 24/50\n",
      "3/3 [==============================] - 0s 19ms/step - loss: 1.1292 - accuracy: 0.3125 - val_loss: 0.9268 - val_accuracy: 0.4500\n",
      "Epoch 25/50\n",
      "3/3 [==============================] - 0s 19ms/step - loss: 1.1133 - accuracy: 0.3125 - val_loss: 0.9172 - val_accuracy: 0.4500\n",
      "Epoch 26/50\n",
      "3/3 [==============================] - 0s 19ms/step - loss: 1.0972 - accuracy: 0.3125 - val_loss: 0.9078 - val_accuracy: 0.4500\n",
      "Epoch 27/50\n",
      "3/3 [==============================] - 0s 19ms/step - loss: 1.0810 - accuracy: 0.3125 - val_loss: 0.8986 - val_accuracy: 0.4500\n",
      "Epoch 28/50\n",
      "3/3 [==============================] - 0s 19ms/step - loss: 1.0661 - accuracy: 0.3125 - val_loss: 0.8894 - val_accuracy: 0.4500\n",
      "Epoch 29/50\n",
      "3/3 [==============================] - 0s 19ms/step - loss: 1.0526 - accuracy: 0.3375 - val_loss: 0.8807 - val_accuracy: 0.4500\n",
      "Epoch 30/50\n",
      "3/3 [==============================] - 0s 18ms/step - loss: 1.0386 - accuracy: 0.3375 - val_loss: 0.8727 - val_accuracy: 0.4500\n",
      "Epoch 31/50\n",
      "3/3 [==============================] - 0s 21ms/step - loss: 1.0272 - accuracy: 0.3375 - val_loss: 0.8651 - val_accuracy: 0.4500\n",
      "Epoch 32/50\n",
      "3/3 [==============================] - 0s 19ms/step - loss: 1.0119 - accuracy: 0.3375 - val_loss: 0.8577 - val_accuracy: 0.4500\n",
      "Epoch 33/50\n",
      "3/3 [==============================] - 0s 19ms/step - loss: 1.0013 - accuracy: 0.3375 - val_loss: 0.8508 - val_accuracy: 0.4500\n",
      "Epoch 34/50\n",
      "3/3 [==============================] - 0s 21ms/step - loss: 0.9882 - accuracy: 0.3375 - val_loss: 0.8438 - val_accuracy: 0.4500\n",
      "Epoch 35/50\n",
      "3/3 [==============================] - 0s 22ms/step - loss: 0.9764 - accuracy: 0.3375 - val_loss: 0.8373 - val_accuracy: 0.4500\n",
      "Epoch 36/50\n",
      "3/3 [==============================] - 0s 23ms/step - loss: 0.9670 - accuracy: 0.3375 - val_loss: 0.8307 - val_accuracy: 0.4500\n",
      "Epoch 37/50\n",
      "3/3 [==============================] - 0s 20ms/step - loss: 0.9558 - accuracy: 0.3375 - val_loss: 0.8243 - val_accuracy: 0.4500\n",
      "Epoch 38/50\n",
      "3/3 [==============================] - 0s 19ms/step - loss: 0.9449 - accuracy: 0.3500 - val_loss: 0.8176 - val_accuracy: 0.4500\n",
      "Epoch 39/50\n",
      "3/3 [==============================] - 0s 20ms/step - loss: 0.9364 - accuracy: 0.3500 - val_loss: 0.8112 - val_accuracy: 0.4500\n",
      "Epoch 40/50\n",
      "3/3 [==============================] - 0s 18ms/step - loss: 0.9262 - accuracy: 0.3500 - val_loss: 0.8055 - val_accuracy: 0.4500\n",
      "Epoch 41/50\n",
      "3/3 [==============================] - 0s 20ms/step - loss: 0.9164 - accuracy: 0.3500 - val_loss: 0.7999 - val_accuracy: 0.4500\n",
      "Epoch 42/50\n",
      "3/3 [==============================] - 0s 20ms/step - loss: 0.9078 - accuracy: 0.3500 - val_loss: 0.7941 - val_accuracy: 0.4500\n",
      "Epoch 43/50\n",
      "3/3 [==============================] - 0s 19ms/step - loss: 0.8990 - accuracy: 0.3500 - val_loss: 0.7888 - val_accuracy: 0.4500\n",
      "Epoch 44/50\n",
      "3/3 [==============================] - 0s 18ms/step - loss: 0.8905 - accuracy: 0.3500 - val_loss: 0.7836 - val_accuracy: 0.4500\n",
      "Epoch 45/50\n",
      "3/3 [==============================] - 0s 19ms/step - loss: 0.8824 - accuracy: 0.3500 - val_loss: 0.7788 - val_accuracy: 0.5000\n",
      "Epoch 46/50\n",
      "3/3 [==============================] - 0s 19ms/step - loss: 0.8748 - accuracy: 0.3625 - val_loss: 0.7741 - val_accuracy: 0.5000\n",
      "Epoch 47/50\n",
      "3/3 [==============================] - 0s 19ms/step - loss: 0.8665 - accuracy: 0.3625 - val_loss: 0.7693 - val_accuracy: 0.5000\n",
      "Epoch 48/50\n",
      "3/3 [==============================] - 0s 20ms/step - loss: 0.8589 - accuracy: 0.3500 - val_loss: 0.7644 - val_accuracy: 0.5000\n",
      "Epoch 49/50\n",
      "3/3 [==============================] - 0s 21ms/step - loss: 0.8523 - accuracy: 0.3500 - val_loss: 0.7595 - val_accuracy: 0.5000\n",
      "Epoch 50/50\n",
      "3/3 [==============================] - 0s 19ms/step - loss: 0.8452 - accuracy: 0.3500 - val_loss: 0.7552 - val_accuracy: 0.5000\n"
     ]
    },
    {
     "data": {
      "text/plain": [
       "<keras.src.callbacks.History at 0x1f715b3d710>"
      ]
     },
     "execution_count": 9,
     "metadata": {},
     "output_type": "execute_result"
    }
   ],
   "source": [
    "model.fit(X_train, y_train, epochs=50, batch_size=32, validation_data=(X_test, y_test))"
   ]
  },
  {
   "cell_type": "code",
   "execution_count": 10,
   "metadata": {},
   "outputs": [
    {
     "name": "stdout",
     "output_type": "stream",
     "text": [
      "1/1 [==============================] - 0s 30ms/step - loss: 0.7552 - accuracy: 0.5000\n",
      "Test loss: 0.7551888823509216, Test accuracy: 0.5\n"
     ]
    }
   ],
   "source": [
    "loss, accuracy = model.evaluate(X_test, y_test)\n",
    "print(f'Test loss: {loss}, Test accuracy: {accuracy}')"
   ]
  },
  {
   "cell_type": "code",
   "execution_count": 11,
   "metadata": {},
   "outputs": [
    {
     "name": "stdout",
     "output_type": "stream",
     "text": [
      "1/1 [==============================] - 0s 92ms/step\n",
      "Pred score: [[-0.266493]]\n"
     ]
    }
   ],
   "source": [
    "sample_input = np.random.rand(1, 5)\n",
    "scaled_input = scaler.transform(sample_input)\n",
    "prediction = model.predict(scaled_input)\n",
    "print(f'Pred score: {prediction}')"
   ]
  }
 ],
 "metadata": {
  "kernelspec": {
   "display_name": "myenv",
   "language": "python",
   "name": "python3"
  },
  "language_info": {
   "codemirror_mode": {
    "name": "ipython",
    "version": 3
   },
   "file_extension": ".py",
   "mimetype": "text/x-python",
   "name": "python",
   "nbconvert_exporter": "python",
   "pygments_lexer": "ipython3",
   "version": "3.11.5"
  }
 },
 "nbformat": 4,
 "nbformat_minor": 2
}
