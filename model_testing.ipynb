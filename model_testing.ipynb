{
 "cells": [
  {
   "cell_type": "code",
   "execution_count": 2,
   "metadata": {},
   "outputs": [],
   "source": [
    "from model import FootballPredictor\n",
    "import pandas as pd\n",
    "import numpy as np\n",
    "import matplotlib.pyplot as plt"
   ]
  },
  {
   "cell_type": "code",
   "execution_count": 5,
   "metadata": {},
   "outputs": [],
   "source": [
    "pd.set_option('display.max_rows', 100)\n",
    "pd.set_option('display.max_columns', None)"
   ]
  },
  {
   "cell_type": "code",
   "execution_count": 3,
   "metadata": {},
   "outputs": [],
   "source": [
    "data = pd.read_csv('./data/clean_data.csv')"
   ]
  },
  {
   "cell_type": "code",
   "execution_count": 6,
   "metadata": {},
   "outputs": [
    {
     "data": {
      "text/plain": [
       "Unnamed: 0                               int64\n",
       "timestamp                                int64\n",
       "date_GMT                                object\n",
       "status                                  object\n",
       "attendance                             float64\n",
       "home_team_name                          object\n",
       "away_team_name                          object\n",
       "referee                                 object\n",
       "Game Week                              float64\n",
       "Pre-Match PPG (Home)                   float64\n",
       "Pre-Match PPG (Away)                   float64\n",
       "home_ppg                               float64\n",
       "away_ppg                               float64\n",
       "home_team_goal_count                     int64\n",
       "away_team_goal_count                     int64\n",
       "total_goal_count                         int64\n",
       "total_goals_at_half_time                 int64\n",
       "home_team_goal_count_half_time           int64\n",
       "away_team_goal_count_half_time           int64\n",
       "home_team_goal_timings                  object\n",
       "away_team_goal_timings                  object\n",
       "home_team_corner_count                   int64\n",
       "away_team_corner_count                   int64\n",
       "home_team_yellow_cards                   int64\n",
       "home_team_red_cards                      int64\n",
       "away_team_yellow_cards                   int64\n",
       "away_team_red_cards                      int64\n",
       "home_team_first_half_cards               int64\n",
       "home_team_second_half_cards              int64\n",
       "away_team_first_half_cards               int64\n",
       "away_team_second_half_cards              int64\n",
       "home_team_shots                          int64\n",
       "away_team_shots                          int64\n",
       "home_team_shots_on_target                int64\n",
       "away_team_shots_on_target                int64\n",
       "home_team_shots_off_target               int64\n",
       "away_team_shots_off_target               int64\n",
       "home_team_fouls                          int64\n",
       "away_team_fouls                          int64\n",
       "home_team_possession                     int64\n",
       "away_team_possession                     int64\n",
       "Home Team Pre-Match xG                 float64\n",
       "Away Team Pre-Match xG                 float64\n",
       "team_a_xg                              float64\n",
       "team_b_xg                              float64\n",
       "average_goals_per_match_pre_match      float64\n",
       "btts_percentage_pre_match                int64\n",
       "over_15_percentage_pre_match             int64\n",
       "over_25_percentage_pre_match             int64\n",
       "over_35_percentage_pre_match             int64\n",
       "over_45_percentage_pre_match             int64\n",
       "over_15_HT_FHG_percentage_pre_match      int64\n",
       "over_05_HT_FHG_percentage_pre_match      int64\n",
       "over_15_2HG_percentage_pre_match         int64\n",
       "over_05_2HG_percentage_pre_match         int64\n",
       "average_corners_per_match_pre_match    float64\n",
       "average_cards_per_match_pre_match      float64\n",
       "odds_ft_home_team_win                  float64\n",
       "odds_ft_draw                           float64\n",
       "odds_ft_away_team_win                  float64\n",
       "odds_ft_over15                         float64\n",
       "odds_ft_over25                         float64\n",
       "odds_ft_over35                         float64\n",
       "odds_ft_over45                         float64\n",
       "odds_btts_yes                          float64\n",
       "odds_btts_no                           float64\n",
       "stadium_name                            object\n",
       "dtype: object"
      ]
     },
     "execution_count": 6,
     "metadata": {},
     "output_type": "execute_result"
    }
   ],
   "source": [
    "data.dtypes"
   ]
  },
  {
   "cell_type": "code",
   "execution_count": null,
   "metadata": {},
   "outputs": [],
   "source": [
    "features = data.drop(['result', 'goals', 'corners', 'yellow_cards', 'red_cards', 'odds_home_win', 'odds_draw', 'odds_away_win'], axis=1)\n",
    "labels = {\n",
    "    'result_output': data['result'],\n",
    "    'goals_output': data['goals'],\n",
    "    'corners_output': data['corners'],\n",
    "    'yellow_cards_output': data['yellow_cards'],\n",
    "    'red_cards_output': data['red_cards'],\n",
    "    'odds_home_win_output': data['odds_home_win'],\n",
    "    'odds_draw_output': data['odds_draw'],\n",
    "    'odds_away_win_output': data['odds_away_win']\n",
    "}"
   ]
  }
 ],
 "metadata": {
  "kernelspec": {
   "display_name": "magisterka_env",
   "language": "python",
   "name": "python3"
  },
  "language_info": {
   "codemirror_mode": {
    "name": "ipython",
    "version": 3
   },
   "file_extension": ".py",
   "mimetype": "text/x-python",
   "name": "python",
   "nbconvert_exporter": "python",
   "pygments_lexer": "ipython3",
   "version": "3.11.5"
  }
 },
 "nbformat": 4,
 "nbformat_minor": 2
}
