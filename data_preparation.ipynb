{
 "cells": [
  {
   "cell_type": "code",
   "execution_count": 3,
   "metadata": {},
   "outputs": [],
   "source": [
    "import pandas as pd\n",
    "import os\n",
    "from tqdm import tqdm\n",
    "from data_wrapper import FootballPredictorDataWrapper, add_h2h_goals, add_h2h_results, add_h2h_stats"
   ]
  },
  {
   "cell_type": "code",
   "execution_count": 2,
   "metadata": {},
   "outputs": [],
   "source": [
    "#this method takes every csv from every season and every league that will be used for modelling and runs data_wrapper.py on it\n",
    "def prepare_data():\n",
    "    for league_folder in tqdm(os.listdir('./modelling_data/raw_data')):\n",
    "        for csv_file in tqdm(os.listdir(f'./modelling_data/raw_data/{league_folder}')):\n",
    "            try:\n",
    "                df = pd.read_csv(f'./modelling_data/raw_data/{league_folder}/{csv_file}')\n",
    "                wrapper = FootballPredictorDataWrapper(df)\n",
    "                df_prepared = wrapper.run()\n",
    "                df_prepared.to_csv(f'./modelling_data/prepared_data/{league_folder}/{csv_file.split(\".\")[0]}-prepared.csv')\n",
    "            except Exception as e:\n",
    "                print(f'There was a problem with preparing data from {csv_file} -> {e}')"
   ]
  },
  {
   "cell_type": "code",
   "execution_count": 3,
   "metadata": {},
   "outputs": [
    {
     "name": "stderr",
     "output_type": "stream",
     "text": [
      "  0%|          | 0/20 [00:00<?, ?it/s]"
     ]
    },
    {
     "name": "stderr",
     "output_type": "stream",
     "text": [
      "c:\\Users\\Łukasz\\magisterka infa\\football_games_predictor\\data_wrapper.py:12: UserWarning: Could not infer format, so each element will be parsed individually, falling back to `dateutil`. To ensure parsing is consistent and as-expected, please specify a format.\n",
      "  df['date_GMT'] = pd.to_datetime(df['date_GMT'])\n",
      "c:\\Users\\Łukasz\\magisterka infa\\football_games_predictor\\data_wrapper.py:12: UserWarning: Could not infer format, so each element will be parsed individually, falling back to `dateutil`. To ensure parsing is consistent and as-expected, please specify a format.\n",
      "  df['date_GMT'] = pd.to_datetime(df['date_GMT'])\n",
      "c:\\Users\\Łukasz\\magisterka infa\\football_games_predictor\\data_wrapper.py:12: UserWarning: Could not infer format, so each element will be parsed individually, falling back to `dateutil`. To ensure parsing is consistent and as-expected, please specify a format.\n",
      "  df['date_GMT'] = pd.to_datetime(df['date_GMT'])\n",
      "c:\\Users\\Łukasz\\magisterka infa\\football_games_predictor\\data_wrapper.py:12: UserWarning: Could not infer format, so each element will be parsed individually, falling back to `dateutil`. To ensure parsing is consistent and as-expected, please specify a format.\n",
      "  df['date_GMT'] = pd.to_datetime(df['date_GMT'])\n",
      "c:\\Users\\Łukasz\\magisterka infa\\football_games_predictor\\data_wrapper.py:12: UserWarning: Could not infer format, so each element will be parsed individually, falling back to `dateutil`. To ensure parsing is consistent and as-expected, please specify a format.\n",
      "  df['date_GMT'] = pd.to_datetime(df['date_GMT'])\n",
      "c:\\Users\\Łukasz\\magisterka infa\\football_games_predictor\\data_wrapper.py:12: UserWarning: Could not infer format, so each element will be parsed individually, falling back to `dateutil`. To ensure parsing is consistent and as-expected, please specify a format.\n",
      "  df['date_GMT'] = pd.to_datetime(df['date_GMT'])\n",
      "100%|██████████| 6/6 [00:03<00:00,  1.74it/s]\n",
      "  5%|▌         | 1/20 [00:03<01:05,  3.46s/it]c:\\Users\\Łukasz\\magisterka infa\\football_games_predictor\\data_wrapper.py:12: UserWarning: Could not infer format, so each element will be parsed individually, falling back to `dateutil`. To ensure parsing is consistent and as-expected, please specify a format.\n",
      "  df['date_GMT'] = pd.to_datetime(df['date_GMT'])\n",
      "c:\\Users\\Łukasz\\magisterka infa\\football_games_predictor\\data_wrapper.py:12: UserWarning: Could not infer format, so each element will be parsed individually, falling back to `dateutil`. To ensure parsing is consistent and as-expected, please specify a format.\n",
      "  df['date_GMT'] = pd.to_datetime(df['date_GMT'])\n",
      "c:\\Users\\Łukasz\\magisterka infa\\football_games_predictor\\data_wrapper.py:12: UserWarning: Could not infer format, so each element will be parsed individually, falling back to `dateutil`. To ensure parsing is consistent and as-expected, please specify a format.\n",
      "  df['date_GMT'] = pd.to_datetime(df['date_GMT'])\n",
      "c:\\Users\\Łukasz\\magisterka infa\\football_games_predictor\\data_wrapper.py:12: UserWarning: Could not infer format, so each element will be parsed individually, falling back to `dateutil`. To ensure parsing is consistent and as-expected, please specify a format.\n",
      "  df['date_GMT'] = pd.to_datetime(df['date_GMT'])\n",
      "c:\\Users\\Łukasz\\magisterka infa\\football_games_predictor\\data_wrapper.py:12: UserWarning: Could not infer format, so each element will be parsed individually, falling back to `dateutil`. To ensure parsing is consistent and as-expected, please specify a format.\n",
      "  df['date_GMT'] = pd.to_datetime(df['date_GMT'])\n",
      "c:\\Users\\Łukasz\\magisterka infa\\football_games_predictor\\data_wrapper.py:12: UserWarning: Could not infer format, so each element will be parsed individually, falling back to `dateutil`. To ensure parsing is consistent and as-expected, please specify a format.\n",
      "  df['date_GMT'] = pd.to_datetime(df['date_GMT'])\n",
      "100%|██████████| 6/6 [00:03<00:00,  1.64it/s]\n",
      " 10%|█         | 2/20 [00:07<01:04,  3.57s/it]c:\\Users\\Łukasz\\magisterka infa\\football_games_predictor\\data_wrapper.py:12: UserWarning: Could not infer format, so each element will be parsed individually, falling back to `dateutil`. To ensure parsing is consistent and as-expected, please specify a format.\n",
      "  df['date_GMT'] = pd.to_datetime(df['date_GMT'])\n",
      "c:\\Users\\Łukasz\\magisterka infa\\football_games_predictor\\data_wrapper.py:12: UserWarning: Could not infer format, so each element will be parsed individually, falling back to `dateutil`. To ensure parsing is consistent and as-expected, please specify a format.\n",
      "  df['date_GMT'] = pd.to_datetime(df['date_GMT'])\n",
      "c:\\Users\\Łukasz\\magisterka infa\\football_games_predictor\\data_wrapper.py:12: UserWarning: Could not infer format, so each element will be parsed individually, falling back to `dateutil`. To ensure parsing is consistent and as-expected, please specify a format.\n",
      "  df['date_GMT'] = pd.to_datetime(df['date_GMT'])\n",
      "c:\\Users\\Łukasz\\magisterka infa\\football_games_predictor\\data_wrapper.py:12: UserWarning: Could not infer format, so each element will be parsed individually, falling back to `dateutil`. To ensure parsing is consistent and as-expected, please specify a format.\n",
      "  df['date_GMT'] = pd.to_datetime(df['date_GMT'])\n",
      "c:\\Users\\Łukasz\\magisterka infa\\football_games_predictor\\data_wrapper.py:12: UserWarning: Could not infer format, so each element will be parsed individually, falling back to `dateutil`. To ensure parsing is consistent and as-expected, please specify a format.\n",
      "  df['date_GMT'] = pd.to_datetime(df['date_GMT'])\n",
      "c:\\Users\\Łukasz\\magisterka infa\\football_games_predictor\\data_wrapper.py:12: UserWarning: Could not infer format, so each element will be parsed individually, falling back to `dateutil`. To ensure parsing is consistent and as-expected, please specify a format.\n",
      "  df['date_GMT'] = pd.to_datetime(df['date_GMT'])\n",
      "100%|██████████| 6/6 [00:03<00:00,  1.70it/s]\n",
      " 15%|█▌        | 3/20 [00:10<01:00,  3.56s/it]c:\\Users\\Łukasz\\magisterka infa\\football_games_predictor\\data_wrapper.py:12: UserWarning: Could not infer format, so each element will be parsed individually, falling back to `dateutil`. To ensure parsing is consistent and as-expected, please specify a format.\n",
      "  df['date_GMT'] = pd.to_datetime(df['date_GMT'])\n",
      "c:\\Users\\Łukasz\\magisterka infa\\football_games_predictor\\data_wrapper.py:12: UserWarning: Could not infer format, so each element will be parsed individually, falling back to `dateutil`. To ensure parsing is consistent and as-expected, please specify a format.\n",
      "  df['date_GMT'] = pd.to_datetime(df['date_GMT'])\n",
      "c:\\Users\\Łukasz\\magisterka infa\\football_games_predictor\\data_wrapper.py:12: UserWarning: Could not infer format, so each element will be parsed individually, falling back to `dateutil`. To ensure parsing is consistent and as-expected, please specify a format.\n",
      "  df['date_GMT'] = pd.to_datetime(df['date_GMT'])\n",
      "c:\\Users\\Łukasz\\magisterka infa\\football_games_predictor\\data_wrapper.py:12: UserWarning: Could not infer format, so each element will be parsed individually, falling back to `dateutil`. To ensure parsing is consistent and as-expected, please specify a format.\n",
      "  df['date_GMT'] = pd.to_datetime(df['date_GMT'])\n",
      "c:\\Users\\Łukasz\\magisterka infa\\football_games_predictor\\data_wrapper.py:12: UserWarning: Could not infer format, so each element will be parsed individually, falling back to `dateutil`. To ensure parsing is consistent and as-expected, please specify a format.\n",
      "  df['date_GMT'] = pd.to_datetime(df['date_GMT'])\n",
      "c:\\Users\\Łukasz\\magisterka infa\\football_games_predictor\\data_wrapper.py:12: UserWarning: Could not infer format, so each element will be parsed individually, falling back to `dateutil`. To ensure parsing is consistent and as-expected, please specify a format.\n",
      "  df['date_GMT'] = pd.to_datetime(df['date_GMT'])\n",
      "100%|██████████| 6/6 [00:04<00:00,  1.47it/s]\n",
      " 20%|██        | 4/20 [00:14<01:00,  3.77s/it]c:\\Users\\Łukasz\\magisterka infa\\football_games_predictor\\data_wrapper.py:12: UserWarning: Could not infer format, so each element will be parsed individually, falling back to `dateutil`. To ensure parsing is consistent and as-expected, please specify a format.\n",
      "  df['date_GMT'] = pd.to_datetime(df['date_GMT'])\n",
      "c:\\Users\\Łukasz\\magisterka infa\\football_games_predictor\\data_wrapper.py:12: UserWarning: Could not infer format, so each element will be parsed individually, falling back to `dateutil`. To ensure parsing is consistent and as-expected, please specify a format.\n",
      "  df['date_GMT'] = pd.to_datetime(df['date_GMT'])\n",
      "c:\\Users\\Łukasz\\magisterka infa\\football_games_predictor\\data_wrapper.py:12: UserWarning: Could not infer format, so each element will be parsed individually, falling back to `dateutil`. To ensure parsing is consistent and as-expected, please specify a format.\n",
      "  df['date_GMT'] = pd.to_datetime(df['date_GMT'])\n",
      "c:\\Users\\Łukasz\\magisterka infa\\football_games_predictor\\data_wrapper.py:12: UserWarning: Could not infer format, so each element will be parsed individually, falling back to `dateutil`. To ensure parsing is consistent and as-expected, please specify a format.\n",
      "  df['date_GMT'] = pd.to_datetime(df['date_GMT'])\n",
      "c:\\Users\\Łukasz\\magisterka infa\\football_games_predictor\\data_wrapper.py:12: UserWarning: Could not infer format, so each element will be parsed individually, falling back to `dateutil`. To ensure parsing is consistent and as-expected, please specify a format.\n",
      "  df['date_GMT'] = pd.to_datetime(df['date_GMT'])\n",
      "c:\\Users\\Łukasz\\magisterka infa\\football_games_predictor\\data_wrapper.py:12: UserWarning: Could not infer format, so each element will be parsed individually, falling back to `dateutil`. To ensure parsing is consistent and as-expected, please specify a format.\n",
      "  df['date_GMT'] = pd.to_datetime(df['date_GMT'])\n",
      "100%|██████████| 6/6 [00:03<00:00,  1.79it/s]\n",
      " 25%|██▌       | 5/20 [00:18<00:54,  3.62s/it]c:\\Users\\Łukasz\\magisterka infa\\football_games_predictor\\data_wrapper.py:12: UserWarning: Could not infer format, so each element will be parsed individually, falling back to `dateutil`. To ensure parsing is consistent and as-expected, please specify a format.\n",
      "  df['date_GMT'] = pd.to_datetime(df['date_GMT'])\n",
      "c:\\Users\\Łukasz\\magisterka infa\\football_games_predictor\\data_wrapper.py:12: UserWarning: Could not infer format, so each element will be parsed individually, falling back to `dateutil`. To ensure parsing is consistent and as-expected, please specify a format.\n",
      "  df['date_GMT'] = pd.to_datetime(df['date_GMT'])\n",
      "c:\\Users\\Łukasz\\magisterka infa\\football_games_predictor\\data_wrapper.py:12: UserWarning: Could not infer format, so each element will be parsed individually, falling back to `dateutil`. To ensure parsing is consistent and as-expected, please specify a format.\n",
      "  df['date_GMT'] = pd.to_datetime(df['date_GMT'])\n",
      "c:\\Users\\Łukasz\\magisterka infa\\football_games_predictor\\data_wrapper.py:12: UserWarning: Could not infer format, so each element will be parsed individually, falling back to `dateutil`. To ensure parsing is consistent and as-expected, please specify a format.\n",
      "  df['date_GMT'] = pd.to_datetime(df['date_GMT'])\n",
      "c:\\Users\\Łukasz\\magisterka infa\\football_games_predictor\\data_wrapper.py:12: UserWarning: Could not infer format, so each element will be parsed individually, falling back to `dateutil`. To ensure parsing is consistent and as-expected, please specify a format.\n",
      "  df['date_GMT'] = pd.to_datetime(df['date_GMT'])\n",
      "c:\\Users\\Łukasz\\magisterka infa\\football_games_predictor\\data_wrapper.py:12: UserWarning: Could not infer format, so each element will be parsed individually, falling back to `dateutil`. To ensure parsing is consistent and as-expected, please specify a format.\n",
      "  df['date_GMT'] = pd.to_datetime(df['date_GMT'])\n",
      "100%|██████████| 6/6 [00:03<00:00,  1.69it/s]\n",
      " 30%|███       | 6/20 [00:21<00:50,  3.60s/it]c:\\Users\\Łukasz\\magisterka infa\\football_games_predictor\\data_wrapper.py:12: UserWarning: Could not infer format, so each element will be parsed individually, falling back to `dateutil`. To ensure parsing is consistent and as-expected, please specify a format.\n",
      "  df['date_GMT'] = pd.to_datetime(df['date_GMT'])\n",
      "c:\\Users\\Łukasz\\magisterka infa\\football_games_predictor\\data_wrapper.py:12: UserWarning: Could not infer format, so each element will be parsed individually, falling back to `dateutil`. To ensure parsing is consistent and as-expected, please specify a format.\n",
      "  df['date_GMT'] = pd.to_datetime(df['date_GMT'])\n",
      "c:\\Users\\Łukasz\\magisterka infa\\football_games_predictor\\data_wrapper.py:12: UserWarning: Could not infer format, so each element will be parsed individually, falling back to `dateutil`. To ensure parsing is consistent and as-expected, please specify a format.\n",
      "  df['date_GMT'] = pd.to_datetime(df['date_GMT'])\n",
      "c:\\Users\\Łukasz\\magisterka infa\\football_games_predictor\\data_wrapper.py:12: UserWarning: Could not infer format, so each element will be parsed individually, falling back to `dateutil`. To ensure parsing is consistent and as-expected, please specify a format.\n",
      "  df['date_GMT'] = pd.to_datetime(df['date_GMT'])\n",
      "c:\\Users\\Łukasz\\magisterka infa\\football_games_predictor\\data_wrapper.py:12: UserWarning: Could not infer format, so each element will be parsed individually, falling back to `dateutil`. To ensure parsing is consistent and as-expected, please specify a format.\n",
      "  df['date_GMT'] = pd.to_datetime(df['date_GMT'])\n",
      "c:\\Users\\Łukasz\\magisterka infa\\football_games_predictor\\data_wrapper.py:12: UserWarning: Could not infer format, so each element will be parsed individually, falling back to `dateutil`. To ensure parsing is consistent and as-expected, please specify a format.\n",
      "  df['date_GMT'] = pd.to_datetime(df['date_GMT'])\n",
      "100%|██████████| 6/6 [00:03<00:00,  1.64it/s]\n",
      " 35%|███▌      | 7/20 [00:25<00:47,  3.62s/it]c:\\Users\\Łukasz\\magisterka infa\\football_games_predictor\\data_wrapper.py:12: UserWarning: Could not infer format, so each element will be parsed individually, falling back to `dateutil`. To ensure parsing is consistent and as-expected, please specify a format.\n",
      "  df['date_GMT'] = pd.to_datetime(df['date_GMT'])\n",
      "c:\\Users\\Łukasz\\magisterka infa\\football_games_predictor\\data_wrapper.py:12: UserWarning: Could not infer format, so each element will be parsed individually, falling back to `dateutil`. To ensure parsing is consistent and as-expected, please specify a format.\n",
      "  df['date_GMT'] = pd.to_datetime(df['date_GMT'])\n",
      "c:\\Users\\Łukasz\\magisterka infa\\football_games_predictor\\data_wrapper.py:12: UserWarning: Could not infer format, so each element will be parsed individually, falling back to `dateutil`. To ensure parsing is consistent and as-expected, please specify a format.\n",
      "  df['date_GMT'] = pd.to_datetime(df['date_GMT'])\n",
      "c:\\Users\\Łukasz\\magisterka infa\\football_games_predictor\\data_wrapper.py:12: UserWarning: Could not infer format, so each element will be parsed individually, falling back to `dateutil`. To ensure parsing is consistent and as-expected, please specify a format.\n",
      "  df['date_GMT'] = pd.to_datetime(df['date_GMT'])\n",
      "c:\\Users\\Łukasz\\magisterka infa\\football_games_predictor\\data_wrapper.py:12: UserWarning: Could not infer format, so each element will be parsed individually, falling back to `dateutil`. To ensure parsing is consistent and as-expected, please specify a format.\n",
      "  df['date_GMT'] = pd.to_datetime(df['date_GMT'])\n",
      "c:\\Users\\Łukasz\\magisterka infa\\football_games_predictor\\data_wrapper.py:12: UserWarning: Could not infer format, so each element will be parsed individually, falling back to `dateutil`. To ensure parsing is consistent and as-expected, please specify a format.\n",
      "  df['date_GMT'] = pd.to_datetime(df['date_GMT'])\n",
      "100%|██████████| 6/6 [00:03<00:00,  1.67it/s]\n",
      " 40%|████      | 8/20 [00:28<00:43,  3.61s/it]c:\\Users\\Łukasz\\magisterka infa\\football_games_predictor\\data_wrapper.py:12: UserWarning: Could not infer format, so each element will be parsed individually, falling back to `dateutil`. To ensure parsing is consistent and as-expected, please specify a format.\n",
      "  df['date_GMT'] = pd.to_datetime(df['date_GMT'])\n",
      "c:\\Users\\Łukasz\\magisterka infa\\football_games_predictor\\data_wrapper.py:12: UserWarning: Could not infer format, so each element will be parsed individually, falling back to `dateutil`. To ensure parsing is consistent and as-expected, please specify a format.\n",
      "  df['date_GMT'] = pd.to_datetime(df['date_GMT'])\n",
      "c:\\Users\\Łukasz\\magisterka infa\\football_games_predictor\\data_wrapper.py:12: UserWarning: Could not infer format, so each element will be parsed individually, falling back to `dateutil`. To ensure parsing is consistent and as-expected, please specify a format.\n",
      "  df['date_GMT'] = pd.to_datetime(df['date_GMT'])\n",
      "c:\\Users\\Łukasz\\magisterka infa\\football_games_predictor\\data_wrapper.py:12: UserWarning: Could not infer format, so each element will be parsed individually, falling back to `dateutil`. To ensure parsing is consistent and as-expected, please specify a format.\n",
      "  df['date_GMT'] = pd.to_datetime(df['date_GMT'])\n",
      "c:\\Users\\Łukasz\\magisterka infa\\football_games_predictor\\data_wrapper.py:12: UserWarning: Could not infer format, so each element will be parsed individually, falling back to `dateutil`. To ensure parsing is consistent and as-expected, please specify a format.\n",
      "  df['date_GMT'] = pd.to_datetime(df['date_GMT'])\n",
      "c:\\Users\\Łukasz\\magisterka infa\\football_games_predictor\\data_wrapper.py:12: UserWarning: Could not infer format, so each element will be parsed individually, falling back to `dateutil`. To ensure parsing is consistent and as-expected, please specify a format.\n",
      "  df['date_GMT'] = pd.to_datetime(df['date_GMT'])\n",
      "100%|██████████| 6/6 [00:03<00:00,  1.84it/s]\n",
      " 45%|████▌     | 9/20 [00:32<00:38,  3.50s/it]c:\\Users\\Łukasz\\magisterka infa\\football_games_predictor\\data_wrapper.py:12: UserWarning: Could not infer format, so each element will be parsed individually, falling back to `dateutil`. To ensure parsing is consistent and as-expected, please specify a format.\n",
      "  df['date_GMT'] = pd.to_datetime(df['date_GMT'])\n",
      "c:\\Users\\Łukasz\\magisterka infa\\football_games_predictor\\data_wrapper.py:12: UserWarning: Could not infer format, so each element will be parsed individually, falling back to `dateutil`. To ensure parsing is consistent and as-expected, please specify a format.\n",
      "  df['date_GMT'] = pd.to_datetime(df['date_GMT'])\n",
      "c:\\Users\\Łukasz\\magisterka infa\\football_games_predictor\\data_wrapper.py:12: UserWarning: Could not infer format, so each element will be parsed individually, falling back to `dateutil`. To ensure parsing is consistent and as-expected, please specify a format.\n",
      "  df['date_GMT'] = pd.to_datetime(df['date_GMT'])\n",
      "c:\\Users\\Łukasz\\magisterka infa\\football_games_predictor\\data_wrapper.py:12: UserWarning: Could not infer format, so each element will be parsed individually, falling back to `dateutil`. To ensure parsing is consistent and as-expected, please specify a format.\n",
      "  df['date_GMT'] = pd.to_datetime(df['date_GMT'])\n",
      "c:\\Users\\Łukasz\\magisterka infa\\football_games_predictor\\data_wrapper.py:12: UserWarning: Could not infer format, so each element will be parsed individually, falling back to `dateutil`. To ensure parsing is consistent and as-expected, please specify a format.\n",
      "  df['date_GMT'] = pd.to_datetime(df['date_GMT'])\n",
      "c:\\Users\\Łukasz\\magisterka infa\\football_games_predictor\\data_wrapper.py:12: UserWarning: Could not infer format, so each element will be parsed individually, falling back to `dateutil`. To ensure parsing is consistent and as-expected, please specify a format.\n",
      "  df['date_GMT'] = pd.to_datetime(df['date_GMT'])\n",
      "100%|██████████| 6/6 [00:03<00:00,  1.61it/s]\n",
      " 50%|█████     | 10/20 [00:35<00:35,  3.58s/it]c:\\Users\\Łukasz\\magisterka infa\\football_games_predictor\\data_wrapper.py:12: UserWarning: Could not infer format, so each element will be parsed individually, falling back to `dateutil`. To ensure parsing is consistent and as-expected, please specify a format.\n",
      "  df['date_GMT'] = pd.to_datetime(df['date_GMT'])\n",
      "c:\\Users\\Łukasz\\magisterka infa\\football_games_predictor\\data_wrapper.py:12: UserWarning: Could not infer format, so each element will be parsed individually, falling back to `dateutil`. To ensure parsing is consistent and as-expected, please specify a format.\n",
      "  df['date_GMT'] = pd.to_datetime(df['date_GMT'])\n",
      "c:\\Users\\Łukasz\\magisterka infa\\football_games_predictor\\data_wrapper.py:12: UserWarning: Could not infer format, so each element will be parsed individually, falling back to `dateutil`. To ensure parsing is consistent and as-expected, please specify a format.\n",
      "  df['date_GMT'] = pd.to_datetime(df['date_GMT'])\n",
      "c:\\Users\\Łukasz\\magisterka infa\\football_games_predictor\\data_wrapper.py:12: UserWarning: Could not infer format, so each element will be parsed individually, falling back to `dateutil`. To ensure parsing is consistent and as-expected, please specify a format.\n",
      "  df['date_GMT'] = pd.to_datetime(df['date_GMT'])\n",
      "c:\\Users\\Łukasz\\magisterka infa\\football_games_predictor\\data_wrapper.py:12: UserWarning: Could not infer format, so each element will be parsed individually, falling back to `dateutil`. To ensure parsing is consistent and as-expected, please specify a format.\n",
      "  df['date_GMT'] = pd.to_datetime(df['date_GMT'])\n",
      "c:\\Users\\Łukasz\\magisterka infa\\football_games_predictor\\data_wrapper.py:12: UserWarning: Could not infer format, so each element will be parsed individually, falling back to `dateutil`. To ensure parsing is consistent and as-expected, please specify a format.\n",
      "  df['date_GMT'] = pd.to_datetime(df['date_GMT'])\n",
      "100%|██████████| 6/6 [00:03<00:00,  1.75it/s]\n",
      " 55%|█████▌    | 11/20 [00:39<00:31,  3.53s/it]c:\\Users\\Łukasz\\magisterka infa\\football_games_predictor\\data_wrapper.py:12: UserWarning: Could not infer format, so each element will be parsed individually, falling back to `dateutil`. To ensure parsing is consistent and as-expected, please specify a format.\n",
      "  df['date_GMT'] = pd.to_datetime(df['date_GMT'])\n",
      "c:\\Users\\Łukasz\\magisterka infa\\football_games_predictor\\data_wrapper.py:12: UserWarning: Could not infer format, so each element will be parsed individually, falling back to `dateutil`. To ensure parsing is consistent and as-expected, please specify a format.\n",
      "  df['date_GMT'] = pd.to_datetime(df['date_GMT'])\n",
      "c:\\Users\\Łukasz\\magisterka infa\\football_games_predictor\\data_wrapper.py:12: UserWarning: Could not infer format, so each element will be parsed individually, falling back to `dateutil`. To ensure parsing is consistent and as-expected, please specify a format.\n",
      "  df['date_GMT'] = pd.to_datetime(df['date_GMT'])\n",
      "c:\\Users\\Łukasz\\magisterka infa\\football_games_predictor\\data_wrapper.py:12: UserWarning: Could not infer format, so each element will be parsed individually, falling back to `dateutil`. To ensure parsing is consistent and as-expected, please specify a format.\n",
      "  df['date_GMT'] = pd.to_datetime(df['date_GMT'])\n",
      "c:\\Users\\Łukasz\\magisterka infa\\football_games_predictor\\data_wrapper.py:12: UserWarning: Could not infer format, so each element will be parsed individually, falling back to `dateutil`. To ensure parsing is consistent and as-expected, please specify a format.\n",
      "  df['date_GMT'] = pd.to_datetime(df['date_GMT'])\n",
      "c:\\Users\\Łukasz\\magisterka infa\\football_games_predictor\\data_wrapper.py:12: UserWarning: Could not infer format, so each element will be parsed individually, falling back to `dateutil`. To ensure parsing is consistent and as-expected, please specify a format.\n",
      "  df['date_GMT'] = pd.to_datetime(df['date_GMT'])\n",
      "100%|██████████| 6/6 [00:03<00:00,  1.65it/s]\n",
      " 60%|██████    | 12/20 [00:42<00:28,  3.56s/it]c:\\Users\\Łukasz\\magisterka infa\\football_games_predictor\\data_wrapper.py:12: UserWarning: Could not infer format, so each element will be parsed individually, falling back to `dateutil`. To ensure parsing is consistent and as-expected, please specify a format.\n",
      "  df['date_GMT'] = pd.to_datetime(df['date_GMT'])\n",
      "c:\\Users\\Łukasz\\magisterka infa\\football_games_predictor\\data_wrapper.py:12: UserWarning: Could not infer format, so each element will be parsed individually, falling back to `dateutil`. To ensure parsing is consistent and as-expected, please specify a format.\n",
      "  df['date_GMT'] = pd.to_datetime(df['date_GMT'])\n",
      "c:\\Users\\Łukasz\\magisterka infa\\football_games_predictor\\data_wrapper.py:12: UserWarning: Could not infer format, so each element will be parsed individually, falling back to `dateutil`. To ensure parsing is consistent and as-expected, please specify a format.\n",
      "  df['date_GMT'] = pd.to_datetime(df['date_GMT'])\n",
      "c:\\Users\\Łukasz\\magisterka infa\\football_games_predictor\\data_wrapper.py:12: UserWarning: Could not infer format, so each element will be parsed individually, falling back to `dateutil`. To ensure parsing is consistent and as-expected, please specify a format.\n",
      "  df['date_GMT'] = pd.to_datetime(df['date_GMT'])\n",
      "c:\\Users\\Łukasz\\magisterka infa\\football_games_predictor\\data_wrapper.py:12: UserWarning: Could not infer format, so each element will be parsed individually, falling back to `dateutil`. To ensure parsing is consistent and as-expected, please specify a format.\n",
      "  df['date_GMT'] = pd.to_datetime(df['date_GMT'])\n",
      "c:\\Users\\Łukasz\\magisterka infa\\football_games_predictor\\data_wrapper.py:12: UserWarning: Could not infer format, so each element will be parsed individually, falling back to `dateutil`. To ensure parsing is consistent and as-expected, please specify a format.\n",
      "  df['date_GMT'] = pd.to_datetime(df['date_GMT'])\n",
      "100%|██████████| 7/7 [00:04<00:00,  1.54it/s]\n",
      " 65%|██████▌   | 13/20 [00:47<00:27,  3.86s/it]c:\\Users\\Łukasz\\magisterka infa\\football_games_predictor\\data_wrapper.py:12: UserWarning: Could not infer format, so each element will be parsed individually, falling back to `dateutil`. To ensure parsing is consistent and as-expected, please specify a format.\n",
      "  df['date_GMT'] = pd.to_datetime(df['date_GMT'])\n",
      "c:\\Users\\Łukasz\\magisterka infa\\football_games_predictor\\data_wrapper.py:12: UserWarning: Could not infer format, so each element will be parsed individually, falling back to `dateutil`. To ensure parsing is consistent and as-expected, please specify a format.\n",
      "  df['date_GMT'] = pd.to_datetime(df['date_GMT'])\n",
      "c:\\Users\\Łukasz\\magisterka infa\\football_games_predictor\\data_wrapper.py:12: UserWarning: Could not infer format, so each element will be parsed individually, falling back to `dateutil`. To ensure parsing is consistent and as-expected, please specify a format.\n",
      "  df['date_GMT'] = pd.to_datetime(df['date_GMT'])\n",
      "c:\\Users\\Łukasz\\magisterka infa\\football_games_predictor\\data_wrapper.py:12: UserWarning: Could not infer format, so each element will be parsed individually, falling back to `dateutil`. To ensure parsing is consistent and as-expected, please specify a format.\n",
      "  df['date_GMT'] = pd.to_datetime(df['date_GMT'])\n",
      "c:\\Users\\Łukasz\\magisterka infa\\football_games_predictor\\data_wrapper.py:12: UserWarning: Could not infer format, so each element will be parsed individually, falling back to `dateutil`. To ensure parsing is consistent and as-expected, please specify a format.\n",
      "  df['date_GMT'] = pd.to_datetime(df['date_GMT'])\n",
      "c:\\Users\\Łukasz\\magisterka infa\\football_games_predictor\\data_wrapper.py:12: UserWarning: Could not infer format, so each element will be parsed individually, falling back to `dateutil`. To ensure parsing is consistent and as-expected, please specify a format.\n",
      "  df['date_GMT'] = pd.to_datetime(df['date_GMT'])\n",
      "100%|██████████| 7/7 [00:03<00:00,  1.85it/s]\n",
      " 70%|███████   | 14/20 [00:51<00:23,  3.84s/it]c:\\Users\\Łukasz\\magisterka infa\\football_games_predictor\\data_wrapper.py:12: UserWarning: Could not infer format, so each element will be parsed individually, falling back to `dateutil`. To ensure parsing is consistent and as-expected, please specify a format.\n",
      "  df['date_GMT'] = pd.to_datetime(df['date_GMT'])\n",
      "c:\\Users\\Łukasz\\magisterka infa\\football_games_predictor\\data_wrapper.py:12: UserWarning: Could not infer format, so each element will be parsed individually, falling back to `dateutil`. To ensure parsing is consistent and as-expected, please specify a format.\n",
      "  df['date_GMT'] = pd.to_datetime(df['date_GMT'])\n",
      "c:\\Users\\Łukasz\\magisterka infa\\football_games_predictor\\data_wrapper.py:12: UserWarning: Could not infer format, so each element will be parsed individually, falling back to `dateutil`. To ensure parsing is consistent and as-expected, please specify a format.\n",
      "  df['date_GMT'] = pd.to_datetime(df['date_GMT'])\n",
      "c:\\Users\\Łukasz\\magisterka infa\\football_games_predictor\\data_wrapper.py:12: UserWarning: Could not infer format, so each element will be parsed individually, falling back to `dateutil`. To ensure parsing is consistent and as-expected, please specify a format.\n",
      "  df['date_GMT'] = pd.to_datetime(df['date_GMT'])\n",
      "c:\\Users\\Łukasz\\magisterka infa\\football_games_predictor\\data_wrapper.py:12: UserWarning: Could not infer format, so each element will be parsed individually, falling back to `dateutil`. To ensure parsing is consistent and as-expected, please specify a format.\n",
      "  df['date_GMT'] = pd.to_datetime(df['date_GMT'])\n",
      "100%|██████████| 6/6 [00:03<00:00,  1.68it/s]\n",
      " 75%|███████▌  | 15/20 [00:54<00:18,  3.76s/it]c:\\Users\\Łukasz\\magisterka infa\\football_games_predictor\\data_wrapper.py:12: UserWarning: Could not infer format, so each element will be parsed individually, falling back to `dateutil`. To ensure parsing is consistent and as-expected, please specify a format.\n",
      "  df['date_GMT'] = pd.to_datetime(df['date_GMT'])\n",
      "c:\\Users\\Łukasz\\magisterka infa\\football_games_predictor\\data_wrapper.py:12: UserWarning: Could not infer format, so each element will be parsed individually, falling back to `dateutil`. To ensure parsing is consistent and as-expected, please specify a format.\n",
      "  df['date_GMT'] = pd.to_datetime(df['date_GMT'])\n",
      "100%|██████████| 6/6 [00:03<00:00,  1.88it/s]\n",
      " 80%|████████  | 16/20 [00:58<00:14,  3.59s/it]c:\\Users\\Łukasz\\magisterka infa\\football_games_predictor\\data_wrapper.py:12: UserWarning: Could not infer format, so each element will be parsed individually, falling back to `dateutil`. To ensure parsing is consistent and as-expected, please specify a format.\n",
      "  df['date_GMT'] = pd.to_datetime(df['date_GMT'])\n",
      "c:\\Users\\Łukasz\\magisterka infa\\football_games_predictor\\data_wrapper.py:12: UserWarning: Could not infer format, so each element will be parsed individually, falling back to `dateutil`. To ensure parsing is consistent and as-expected, please specify a format.\n",
      "  df['date_GMT'] = pd.to_datetime(df['date_GMT'])\n",
      "c:\\Users\\Łukasz\\magisterka infa\\football_games_predictor\\data_wrapper.py:12: UserWarning: Could not infer format, so each element will be parsed individually, falling back to `dateutil`. To ensure parsing is consistent and as-expected, please specify a format.\n",
      "  df['date_GMT'] = pd.to_datetime(df['date_GMT'])\n",
      "c:\\Users\\Łukasz\\magisterka infa\\football_games_predictor\\data_wrapper.py:12: UserWarning: Could not infer format, so each element will be parsed individually, falling back to `dateutil`. To ensure parsing is consistent and as-expected, please specify a format.\n",
      "  df['date_GMT'] = pd.to_datetime(df['date_GMT'])\n",
      "c:\\Users\\Łukasz\\magisterka infa\\football_games_predictor\\data_wrapper.py:12: UserWarning: Could not infer format, so each element will be parsed individually, falling back to `dateutil`. To ensure parsing is consistent and as-expected, please specify a format.\n",
      "  df['date_GMT'] = pd.to_datetime(df['date_GMT'])\n",
      "c:\\Users\\Łukasz\\magisterka infa\\football_games_predictor\\data_wrapper.py:12: UserWarning: Could not infer format, so each element will be parsed individually, falling back to `dateutil`. To ensure parsing is consistent and as-expected, please specify a format.\n",
      "  df['date_GMT'] = pd.to_datetime(df['date_GMT'])\n",
      "100%|██████████| 6/6 [00:03<00:00,  1.62it/s]\n",
      " 85%|████████▌ | 17/20 [01:01<00:10,  3.63s/it]c:\\Users\\Łukasz\\magisterka infa\\football_games_predictor\\data_wrapper.py:12: UserWarning: Could not infer format, so each element will be parsed individually, falling back to `dateutil`. To ensure parsing is consistent and as-expected, please specify a format.\n",
      "  df['date_GMT'] = pd.to_datetime(df['date_GMT'])\n",
      "c:\\Users\\Łukasz\\magisterka infa\\football_games_predictor\\data_wrapper.py:12: UserWarning: Could not infer format, so each element will be parsed individually, falling back to `dateutil`. To ensure parsing is consistent and as-expected, please specify a format.\n",
      "  df['date_GMT'] = pd.to_datetime(df['date_GMT'])\n",
      "c:\\Users\\Łukasz\\magisterka infa\\football_games_predictor\\data_wrapper.py:12: UserWarning: Could not infer format, so each element will be parsed individually, falling back to `dateutil`. To ensure parsing is consistent and as-expected, please specify a format.\n",
      "  df['date_GMT'] = pd.to_datetime(df['date_GMT'])\n",
      "c:\\Users\\Łukasz\\magisterka infa\\football_games_predictor\\data_wrapper.py:12: UserWarning: Could not infer format, so each element will be parsed individually, falling back to `dateutil`. To ensure parsing is consistent and as-expected, please specify a format.\n",
      "  df['date_GMT'] = pd.to_datetime(df['date_GMT'])\n",
      "c:\\Users\\Łukasz\\magisterka infa\\football_games_predictor\\data_wrapper.py:12: UserWarning: Could not infer format, so each element will be parsed individually, falling back to `dateutil`. To ensure parsing is consistent and as-expected, please specify a format.\n",
      "  df['date_GMT'] = pd.to_datetime(df['date_GMT'])\n",
      "c:\\Users\\Łukasz\\magisterka infa\\football_games_predictor\\data_wrapper.py:12: UserWarning: Could not infer format, so each element will be parsed individually, falling back to `dateutil`. To ensure parsing is consistent and as-expected, please specify a format.\n",
      "  df['date_GMT'] = pd.to_datetime(df['date_GMT'])\n",
      "100%|██████████| 6/6 [00:03<00:00,  1.86it/s]\n",
      " 90%|█████████ | 18/20 [01:05<00:07,  3.51s/it]c:\\Users\\Łukasz\\magisterka infa\\football_games_predictor\\data_wrapper.py:12: UserWarning: Could not infer format, so each element will be parsed individually, falling back to `dateutil`. To ensure parsing is consistent and as-expected, please specify a format.\n",
      "  df['date_GMT'] = pd.to_datetime(df['date_GMT'])\n",
      "c:\\Users\\Łukasz\\magisterka infa\\football_games_predictor\\data_wrapper.py:12: UserWarning: Could not infer format, so each element will be parsed individually, falling back to `dateutil`. To ensure parsing is consistent and as-expected, please specify a format.\n",
      "  df['date_GMT'] = pd.to_datetime(df['date_GMT'])\n",
      "c:\\Users\\Łukasz\\magisterka infa\\football_games_predictor\\data_wrapper.py:12: UserWarning: Could not infer format, so each element will be parsed individually, falling back to `dateutil`. To ensure parsing is consistent and as-expected, please specify a format.\n",
      "  df['date_GMT'] = pd.to_datetime(df['date_GMT'])\n",
      "c:\\Users\\Łukasz\\magisterka infa\\football_games_predictor\\data_wrapper.py:12: UserWarning: Could not infer format, so each element will be parsed individually, falling back to `dateutil`. To ensure parsing is consistent and as-expected, please specify a format.\n",
      "  df['date_GMT'] = pd.to_datetime(df['date_GMT'])\n",
      "c:\\Users\\Łukasz\\magisterka infa\\football_games_predictor\\data_wrapper.py:12: UserWarning: Could not infer format, so each element will be parsed individually, falling back to `dateutil`. To ensure parsing is consistent and as-expected, please specify a format.\n",
      "  df['date_GMT'] = pd.to_datetime(df['date_GMT'])\n",
      "c:\\Users\\Łukasz\\magisterka infa\\football_games_predictor\\data_wrapper.py:12: UserWarning: Could not infer format, so each element will be parsed individually, falling back to `dateutil`. To ensure parsing is consistent and as-expected, please specify a format.\n",
      "  df['date_GMT'] = pd.to_datetime(df['date_GMT'])\n",
      "100%|██████████| 6/6 [00:03<00:00,  1.62it/s]\n",
      " 95%|█████████▌| 19/20 [01:08<00:03,  3.57s/it]c:\\Users\\Łukasz\\magisterka infa\\football_games_predictor\\data_wrapper.py:12: UserWarning: Could not infer format, so each element will be parsed individually, falling back to `dateutil`. To ensure parsing is consistent and as-expected, please specify a format.\n",
      "  df['date_GMT'] = pd.to_datetime(df['date_GMT'])\n",
      "c:\\Users\\Łukasz\\magisterka infa\\football_games_predictor\\data_wrapper.py:12: UserWarning: Could not infer format, so each element will be parsed individually, falling back to `dateutil`. To ensure parsing is consistent and as-expected, please specify a format.\n",
      "  df['date_GMT'] = pd.to_datetime(df['date_GMT'])\n",
      "c:\\Users\\Łukasz\\magisterka infa\\football_games_predictor\\data_wrapper.py:12: UserWarning: Could not infer format, so each element will be parsed individually, falling back to `dateutil`. To ensure parsing is consistent and as-expected, please specify a format.\n",
      "  df['date_GMT'] = pd.to_datetime(df['date_GMT'])\n",
      "100%|██████████| 6/6 [00:03<00:00,  1.84it/s]\n",
      "100%|██████████| 20/20 [01:12<00:00,  3.60s/it]\n"
     ]
    }
   ],
   "source": [
    "prepare_data()"
   ]
  },
  {
   "cell_type": "code",
   "execution_count": 6,
   "metadata": {},
   "outputs": [],
   "source": [
    "#this method takes every prepared csv from every season and every league that will be used for modelling, joins data from different seasons and adds h2h features\n",
    "def join_data_and_add_h2h_features():\n",
    "    for league_folder in tqdm(os.listdir('./modelling_data/prepared_data')):\n",
    "        league_data_all_seasons = pd.DataFrame()\n",
    "        for csv_file in tqdm(os.listdir(f'./modelling_data/prepared_data/{league_folder}')):\n",
    "            data_from_specific_season = pd.read_csv(f'./modelling_data/prepared_data/{league_folder}/{csv_file}')\n",
    "            league_data_all_seasons = pd.concat([league_data_all_seasons, data_from_specific_season], axis=0, ignore_index=True)\n",
    "            \n",
    "        league_data_all_seasons = add_h2h_results(league_data_all_seasons)\n",
    "        league_data_all_seasons = add_h2h_goals(league_data_all_seasons)\n",
    "        league_data_all_seasons = add_h2h_stats(league_data_all_seasons)\n",
    "        league_data_all_seasons.drop(['team_home_x', 'team_away_x', 'team_home_y', 'team_away_y'], axis=1, inplace=True)\n",
    "        \n",
    "        league_data_all_seasons.to_csv(f'./modelling_data/concatenated_data/{league_folder}_data_prepared_all_seasons.csv', index=False)    "
   ]
  },
  {
   "cell_type": "code",
   "execution_count": 7,
   "metadata": {},
   "outputs": [
    {
     "name": "stderr",
     "output_type": "stream",
     "text": [
      "100%|██████████| 6/6 [00:00<00:00, 86.56it/s]\n",
      "100%|██████████| 6/6 [00:00<00:00, 87.01it/s]]\n",
      "100%|██████████| 6/6 [00:00<00:00, 89.09it/s]]\n",
      "100%|██████████| 6/6 [00:00<00:00, 68.08it/s]]\n",
      "100%|██████████| 6/6 [00:00<00:00, 84.79it/s]]\n",
      "100%|██████████| 6/6 [00:00<00:00, 101.92it/s]\n",
      "100%|██████████| 6/6 [00:00<00:00, 80.13it/s]]\n",
      "100%|██████████| 6/6 [00:00<00:00, 87.21it/s]]\n",
      "100%|██████████| 6/6 [00:00<00:00, 93.16it/s]]\n",
      "100%|██████████| 6/6 [00:00<00:00, 76.11it/s]]\n",
      "100%|██████████| 6/6 [00:00<00:00, 76.56it/s]s]\n",
      "100%|██████████| 6/6 [00:00<00:00, 65.99it/s]s]\n",
      "100%|██████████| 7/7 [00:00<00:00, 67.63it/s]s]\n",
      "100%|██████████| 7/7 [00:00<00:00, 63.35it/s]s]\n",
      "100%|██████████| 6/6 [00:00<00:00, 75.52it/s]s]\n",
      "100%|██████████| 6/6 [00:00<00:00, 96.77it/s]s]\n",
      "100%|██████████| 6/6 [00:00<00:00, 74.36it/s]s]\n",
      "100%|██████████| 6/6 [00:00<00:00, 96.95it/s]s]\n",
      "100%|██████████| 6/6 [00:00<00:00, 73.69it/s]s]\n",
      "100%|██████████| 6/6 [00:00<00:00, 91.09it/s]s]\n",
      "100%|██████████| 20/20 [00:06<00:00,  2.94it/s]\n"
     ]
    }
   ],
   "source": [
    "join_data_and_add_h2h_features()"
   ]
  },
  {
   "cell_type": "code",
   "execution_count": 8,
   "metadata": {},
   "outputs": [],
   "source": [
    "def final_data_cleaning(data):\n",
    "    try:\n",
    "        data.drop('Unnamed: 0', axis=1, inplace=True)\n",
    "    except KeyError:\n",
    "        print('There is no old index column in dataframe.')\n",
    "    \n",
    "    \"\"\"\n",
    "    filling empties in stadium attendance\n",
    "    \"\"\"\n",
    "    \n",
    "    #step 1 - filling empties with mean value for home team and season\n",
    "    data['attendance'] = data['attendance'].fillna(data.groupby(['home_team_name', 'season'])['attendance'].transform('mean'))\n",
    "    \n",
    "    #step 2 (optional) - filling empties with mean value for whole league and stadium\n",
    "    data['attendance'] = data['attendance'].fillna(data.groupby(['league', 'season'])['attendance'].transform('mean'))\n",
    "\n",
    "    #step 3 (optional) - filling empties with mean value for whole league across all seasons\n",
    "    data['attendance'] = data['attendance'].fillna(data.groupby(['league'])['attendance'].transform('mean'))\n",
    "    \n",
    "    \"\"\"\n",
    "    renaming columns\n",
    "    \"\"\"\n",
    "\n",
    "    data.rename(columns={\n",
    "        'Game Week': 'game_week',\n",
    "        'team_a_xg': 'home_team_xg',\n",
    "        'team_b_xg': 'away_team_xg'\n",
    "    }, inplace=True)\n",
    "    \n",
    "    data.columns = [col.lower() for col in data.columns]    \n",
    "\n",
    "    \"\"\"\n",
    "    removing unnecessary features\n",
    "    \"\"\"\n",
    "    \n",
    "    features_to_drop = [\n",
    "        'referee',\n",
    "        'home_ppg',\n",
    "        'away_ppg',\n",
    "        'stadium_name'\n",
    "    ]\n",
    "    \n",
    "    data.drop(features_to_drop, axis=1, inplace=True)\n",
    "    \n",
    "    return data"
   ]
  },
  {
   "cell_type": "code",
   "execution_count": null,
   "metadata": {},
   "outputs": [],
   "source": [
    "for csv_file in os.listdir('./modelling_data/concatenated_data/')"
   ]
  },
  {
   "cell_type": "code",
   "execution_count": 15,
   "metadata": {},
   "outputs": [
    {
     "data": {
      "text/plain": [
       "'./modelling_data/concatenated_data/cleaned_data'"
      ]
     },
     "execution_count": 15,
     "metadata": {},
     "output_type": "execute_result"
    }
   ],
   "source": [
    "root"
   ]
  },
  {
   "cell_type": "code",
   "execution_count": 18,
   "metadata": {},
   "outputs": [
    {
     "data": {
      "text/plain": [
       "'./modelling_data/concatenated_data/cleaned_data\\\\ukraine_data_prepared_all_seasons.csv'"
      ]
     },
     "execution_count": 18,
     "metadata": {},
     "output_type": "execute_result"
    }
   ],
   "source": [
    "os.path.join(root, name)"
   ]
  },
  {
   "cell_type": "code",
   "execution_count": 19,
   "metadata": {},
   "outputs": [
    {
     "data": {
      "text/plain": [
       "'./modelling_data/concatenated_data\\\\cleaned_data\\\\data.csv'"
      ]
     },
     "execution_count": 19,
     "metadata": {},
     "output_type": "execute_result"
    }
   ],
   "source": [
    "os.path.join('./modelling_data/concatenated_data', 'cleaned_data', 'data.csv')"
   ]
  },
  {
   "cell_type": "code",
   "execution_count": 25,
   "metadata": {},
   "outputs": [
    {
     "name": "stderr",
     "output_type": "stream",
     "text": [
      "100%|██████████| 20/20 [00:04<00:00,  4.20it/s]\n",
      "  0%|          | 0/20 [00:00<?, ?it/s]"
     ]
    },
    {
     "name": "stdout",
     "output_type": "stream",
     "text": [
      "There is no old index column in dataframe.\n"
     ]
    },
    {
     "name": "stderr",
     "output_type": "stream",
     "text": [
      "\n"
     ]
    },
    {
     "ename": "KeyError",
     "evalue": "\"['referee', 'home_ppg', 'away_ppg', 'stadium_name'] not found in axis\"",
     "output_type": "error",
     "traceback": [
      "\u001b[1;31m---------------------------------------------------------------------------\u001b[0m",
      "\u001b[1;31mKeyError\u001b[0m                                  Traceback (most recent call last)",
      "Cell \u001b[1;32mIn[25], line 5\u001b[0m\n\u001b[0;32m      3\u001b[0m csv_file_path \u001b[38;5;241m=\u001b[39m os\u001b[38;5;241m.\u001b[39mpath\u001b[38;5;241m.\u001b[39mjoin(root, name)\n\u001b[0;32m      4\u001b[0m data \u001b[38;5;241m=\u001b[39m pd\u001b[38;5;241m.\u001b[39mread_csv(csv_file_path)\n\u001b[1;32m----> 5\u001b[0m data_clean \u001b[38;5;241m=\u001b[39m \u001b[43mfinal_data_cleaning\u001b[49m\u001b[43m(\u001b[49m\u001b[43mdata\u001b[49m\u001b[43m)\u001b[49m\n\u001b[0;32m      6\u001b[0m data_clean\u001b[38;5;241m.\u001b[39mto_csv(os\u001b[38;5;241m.\u001b[39mpath\u001b[38;5;241m.\u001b[39mjoin(root, \u001b[38;5;124m'\u001b[39m\u001b[38;5;124mcleaned_data\u001b[39m\u001b[38;5;124m'\u001b[39m, \u001b[38;5;124mf\u001b[39m\u001b[38;5;124m'\u001b[39m\u001b[38;5;132;01m{\u001b[39;00mname\u001b[38;5;241m.\u001b[39msplit(\u001b[38;5;124m\"\u001b[39m\u001b[38;5;124m.\u001b[39m\u001b[38;5;124m\"\u001b[39m)[\u001b[38;5;241m0\u001b[39m]\u001b[38;5;132;01m}\u001b[39;00m\u001b[38;5;124m_cleaned.csv\u001b[39m\u001b[38;5;124m'\u001b[39m), index\u001b[38;5;241m=\u001b[39m\u001b[38;5;28;01mFalse\u001b[39;00m)\n",
      "Cell \u001b[1;32mIn[8], line 43\u001b[0m, in \u001b[0;36mfinal_data_cleaning\u001b[1;34m(data)\u001b[0m\n\u001b[0;32m     32\u001b[0m \u001b[38;5;250m\u001b[39m\u001b[38;5;124;03m\"\"\"\u001b[39;00m\n\u001b[0;32m     33\u001b[0m \u001b[38;5;124;03mremoving unnecessary features\u001b[39;00m\n\u001b[0;32m     34\u001b[0m \u001b[38;5;124;03m\"\"\"\u001b[39;00m\n\u001b[0;32m     36\u001b[0m features_to_drop \u001b[38;5;241m=\u001b[39m [\n\u001b[0;32m     37\u001b[0m     \u001b[38;5;124m'\u001b[39m\u001b[38;5;124mreferee\u001b[39m\u001b[38;5;124m'\u001b[39m,\n\u001b[0;32m     38\u001b[0m     \u001b[38;5;124m'\u001b[39m\u001b[38;5;124mhome_ppg\u001b[39m\u001b[38;5;124m'\u001b[39m,\n\u001b[0;32m     39\u001b[0m     \u001b[38;5;124m'\u001b[39m\u001b[38;5;124maway_ppg\u001b[39m\u001b[38;5;124m'\u001b[39m,\n\u001b[0;32m     40\u001b[0m     \u001b[38;5;124m'\u001b[39m\u001b[38;5;124mstadium_name\u001b[39m\u001b[38;5;124m'\u001b[39m\n\u001b[0;32m     41\u001b[0m ]\n\u001b[1;32m---> 43\u001b[0m \u001b[43mdata\u001b[49m\u001b[38;5;241;43m.\u001b[39;49m\u001b[43mdrop\u001b[49m\u001b[43m(\u001b[49m\u001b[43mfeatures_to_drop\u001b[49m\u001b[43m,\u001b[49m\u001b[43m \u001b[49m\u001b[43maxis\u001b[49m\u001b[38;5;241;43m=\u001b[39;49m\u001b[38;5;241;43m1\u001b[39;49m\u001b[43m,\u001b[49m\u001b[43m \u001b[49m\u001b[43minplace\u001b[49m\u001b[38;5;241;43m=\u001b[39;49m\u001b[38;5;28;43;01mTrue\u001b[39;49;00m\u001b[43m)\u001b[49m\n\u001b[0;32m     45\u001b[0m \u001b[38;5;28;01mreturn\u001b[39;00m data\n",
      "File \u001b[1;32mc:\\ProgramData\\anaconda3\\envs\\magisterka_env\\Lib\\site-packages\\pandas\\core\\frame.py:5344\u001b[0m, in \u001b[0;36mDataFrame.drop\u001b[1;34m(self, labels, axis, index, columns, level, inplace, errors)\u001b[0m\n\u001b[0;32m   5196\u001b[0m \u001b[38;5;28;01mdef\u001b[39;00m \u001b[38;5;21mdrop\u001b[39m(\n\u001b[0;32m   5197\u001b[0m     \u001b[38;5;28mself\u001b[39m,\n\u001b[0;32m   5198\u001b[0m     labels: IndexLabel \u001b[38;5;241m|\u001b[39m \u001b[38;5;28;01mNone\u001b[39;00m \u001b[38;5;241m=\u001b[39m \u001b[38;5;28;01mNone\u001b[39;00m,\n\u001b[1;32m   (...)\u001b[0m\n\u001b[0;32m   5205\u001b[0m     errors: IgnoreRaise \u001b[38;5;241m=\u001b[39m \u001b[38;5;124m\"\u001b[39m\u001b[38;5;124mraise\u001b[39m\u001b[38;5;124m\"\u001b[39m,\n\u001b[0;32m   5206\u001b[0m ) \u001b[38;5;241m-\u001b[39m\u001b[38;5;241m>\u001b[39m DataFrame \u001b[38;5;241m|\u001b[39m \u001b[38;5;28;01mNone\u001b[39;00m:\n\u001b[0;32m   5207\u001b[0m \u001b[38;5;250m    \u001b[39m\u001b[38;5;124;03m\"\"\"\u001b[39;00m\n\u001b[0;32m   5208\u001b[0m \u001b[38;5;124;03m    Drop specified labels from rows or columns.\u001b[39;00m\n\u001b[0;32m   5209\u001b[0m \n\u001b[1;32m   (...)\u001b[0m\n\u001b[0;32m   5342\u001b[0m \u001b[38;5;124;03m            weight  1.0     0.8\u001b[39;00m\n\u001b[0;32m   5343\u001b[0m \u001b[38;5;124;03m    \"\"\"\u001b[39;00m\n\u001b[1;32m-> 5344\u001b[0m     \u001b[38;5;28;01mreturn\u001b[39;00m \u001b[38;5;28;43msuper\u001b[39;49m\u001b[43m(\u001b[49m\u001b[43m)\u001b[49m\u001b[38;5;241;43m.\u001b[39;49m\u001b[43mdrop\u001b[49m\u001b[43m(\u001b[49m\n\u001b[0;32m   5345\u001b[0m \u001b[43m        \u001b[49m\u001b[43mlabels\u001b[49m\u001b[38;5;241;43m=\u001b[39;49m\u001b[43mlabels\u001b[49m\u001b[43m,\u001b[49m\n\u001b[0;32m   5346\u001b[0m \u001b[43m        \u001b[49m\u001b[43maxis\u001b[49m\u001b[38;5;241;43m=\u001b[39;49m\u001b[43maxis\u001b[49m\u001b[43m,\u001b[49m\n\u001b[0;32m   5347\u001b[0m \u001b[43m        \u001b[49m\u001b[43mindex\u001b[49m\u001b[38;5;241;43m=\u001b[39;49m\u001b[43mindex\u001b[49m\u001b[43m,\u001b[49m\n\u001b[0;32m   5348\u001b[0m \u001b[43m        \u001b[49m\u001b[43mcolumns\u001b[49m\u001b[38;5;241;43m=\u001b[39;49m\u001b[43mcolumns\u001b[49m\u001b[43m,\u001b[49m\n\u001b[0;32m   5349\u001b[0m \u001b[43m        \u001b[49m\u001b[43mlevel\u001b[49m\u001b[38;5;241;43m=\u001b[39;49m\u001b[43mlevel\u001b[49m\u001b[43m,\u001b[49m\n\u001b[0;32m   5350\u001b[0m \u001b[43m        \u001b[49m\u001b[43minplace\u001b[49m\u001b[38;5;241;43m=\u001b[39;49m\u001b[43minplace\u001b[49m\u001b[43m,\u001b[49m\n\u001b[0;32m   5351\u001b[0m \u001b[43m        \u001b[49m\u001b[43merrors\u001b[49m\u001b[38;5;241;43m=\u001b[39;49m\u001b[43merrors\u001b[49m\u001b[43m,\u001b[49m\n\u001b[0;32m   5352\u001b[0m \u001b[43m    \u001b[49m\u001b[43m)\u001b[49m\n",
      "File \u001b[1;32mc:\\ProgramData\\anaconda3\\envs\\magisterka_env\\Lib\\site-packages\\pandas\\core\\generic.py:4711\u001b[0m, in \u001b[0;36mNDFrame.drop\u001b[1;34m(self, labels, axis, index, columns, level, inplace, errors)\u001b[0m\n\u001b[0;32m   4709\u001b[0m \u001b[38;5;28;01mfor\u001b[39;00m axis, labels \u001b[38;5;129;01min\u001b[39;00m axes\u001b[38;5;241m.\u001b[39mitems():\n\u001b[0;32m   4710\u001b[0m     \u001b[38;5;28;01mif\u001b[39;00m labels \u001b[38;5;129;01mis\u001b[39;00m \u001b[38;5;129;01mnot\u001b[39;00m \u001b[38;5;28;01mNone\u001b[39;00m:\n\u001b[1;32m-> 4711\u001b[0m         obj \u001b[38;5;241m=\u001b[39m \u001b[43mobj\u001b[49m\u001b[38;5;241;43m.\u001b[39;49m\u001b[43m_drop_axis\u001b[49m\u001b[43m(\u001b[49m\u001b[43mlabels\u001b[49m\u001b[43m,\u001b[49m\u001b[43m \u001b[49m\u001b[43maxis\u001b[49m\u001b[43m,\u001b[49m\u001b[43m \u001b[49m\u001b[43mlevel\u001b[49m\u001b[38;5;241;43m=\u001b[39;49m\u001b[43mlevel\u001b[49m\u001b[43m,\u001b[49m\u001b[43m \u001b[49m\u001b[43merrors\u001b[49m\u001b[38;5;241;43m=\u001b[39;49m\u001b[43merrors\u001b[49m\u001b[43m)\u001b[49m\n\u001b[0;32m   4713\u001b[0m \u001b[38;5;28;01mif\u001b[39;00m inplace:\n\u001b[0;32m   4714\u001b[0m     \u001b[38;5;28mself\u001b[39m\u001b[38;5;241m.\u001b[39m_update_inplace(obj)\n",
      "File \u001b[1;32mc:\\ProgramData\\anaconda3\\envs\\magisterka_env\\Lib\\site-packages\\pandas\\core\\generic.py:4753\u001b[0m, in \u001b[0;36mNDFrame._drop_axis\u001b[1;34m(self, labels, axis, level, errors, only_slice)\u001b[0m\n\u001b[0;32m   4751\u001b[0m         new_axis \u001b[38;5;241m=\u001b[39m axis\u001b[38;5;241m.\u001b[39mdrop(labels, level\u001b[38;5;241m=\u001b[39mlevel, errors\u001b[38;5;241m=\u001b[39merrors)\n\u001b[0;32m   4752\u001b[0m     \u001b[38;5;28;01melse\u001b[39;00m:\n\u001b[1;32m-> 4753\u001b[0m         new_axis \u001b[38;5;241m=\u001b[39m \u001b[43maxis\u001b[49m\u001b[38;5;241;43m.\u001b[39;49m\u001b[43mdrop\u001b[49m\u001b[43m(\u001b[49m\u001b[43mlabels\u001b[49m\u001b[43m,\u001b[49m\u001b[43m \u001b[49m\u001b[43merrors\u001b[49m\u001b[38;5;241;43m=\u001b[39;49m\u001b[43merrors\u001b[49m\u001b[43m)\u001b[49m\n\u001b[0;32m   4754\u001b[0m     indexer \u001b[38;5;241m=\u001b[39m axis\u001b[38;5;241m.\u001b[39mget_indexer(new_axis)\n\u001b[0;32m   4756\u001b[0m \u001b[38;5;66;03m# Case for non-unique axis\u001b[39;00m\n\u001b[0;32m   4757\u001b[0m \u001b[38;5;28;01melse\u001b[39;00m:\n",
      "File \u001b[1;32mc:\\ProgramData\\anaconda3\\envs\\magisterka_env\\Lib\\site-packages\\pandas\\core\\indexes\\base.py:6992\u001b[0m, in \u001b[0;36mIndex.drop\u001b[1;34m(self, labels, errors)\u001b[0m\n\u001b[0;32m   6990\u001b[0m \u001b[38;5;28;01mif\u001b[39;00m mask\u001b[38;5;241m.\u001b[39many():\n\u001b[0;32m   6991\u001b[0m     \u001b[38;5;28;01mif\u001b[39;00m errors \u001b[38;5;241m!=\u001b[39m \u001b[38;5;124m\"\u001b[39m\u001b[38;5;124mignore\u001b[39m\u001b[38;5;124m\"\u001b[39m:\n\u001b[1;32m-> 6992\u001b[0m         \u001b[38;5;28;01mraise\u001b[39;00m \u001b[38;5;167;01mKeyError\u001b[39;00m(\u001b[38;5;124mf\u001b[39m\u001b[38;5;124m\"\u001b[39m\u001b[38;5;132;01m{\u001b[39;00mlabels[mask]\u001b[38;5;241m.\u001b[39mtolist()\u001b[38;5;132;01m}\u001b[39;00m\u001b[38;5;124m not found in axis\u001b[39m\u001b[38;5;124m\"\u001b[39m)\n\u001b[0;32m   6993\u001b[0m     indexer \u001b[38;5;241m=\u001b[39m indexer[\u001b[38;5;241m~\u001b[39mmask]\n\u001b[0;32m   6994\u001b[0m \u001b[38;5;28;01mreturn\u001b[39;00m \u001b[38;5;28mself\u001b[39m\u001b[38;5;241m.\u001b[39mdelete(indexer)\n",
      "\u001b[1;31mKeyError\u001b[0m: \"['referee', 'home_ppg', 'away_ppg', 'stadium_name'] not found in axis\""
     ]
    }
   ],
   "source": [
    "for root, _, files in os.walk('./modelling_data/concatenated_data/'):\n",
    "    for name in tqdm(files):\n",
    "        csv_file_path = os.path.join(root, name)\n",
    "        data = pd.read_csv(csv_file_path)\n",
    "        data_clean = final_data_cleaning(data)\n",
    "        data_clean.to_csv(os.path.join(root, 'cleaned_data', f'{name.split(\".\")[0]}_cleaned.csv'), index=False)"
   ]
  },
  {
   "cell_type": "code",
   "execution_count": 31,
   "metadata": {},
   "outputs": [],
   "source": [
    "all_data = pd.DataFrame()\n",
    "\n",
    "for csv_file in os.listdir('./modelling_data/concatenated_data/cleaned_data'):\n",
    "    data_from_specific_league = pd.read_csv(f'./modelling_data/concatenated_data/cleaned_data/{csv_file}')\n",
    "    all_data = pd.concat([all_data, data_from_specific_league], axis=0)\n",
    "    \n",
    "all_data.to_csv('./modelling_data/concatenated_data/cleaned_data/all_games_1819_2324.csv', index=False)"
   ]
  },
  {
   "cell_type": "code",
   "execution_count": 32,
   "metadata": {},
   "outputs": [],
   "source": [
    "data = pd.read_csv('./modelling_data/concatenated_data/cleaned_data/all_games_1819_2324.csv')"
   ]
  },
  {
   "cell_type": "code",
   "execution_count": 33,
   "metadata": {},
   "outputs": [
    {
     "data": {
      "text/plain": [
       "(37746, 162)"
      ]
     },
     "execution_count": 33,
     "metadata": {},
     "output_type": "execute_result"
    }
   ],
   "source": [
    "data.shape"
   ]
  },
  {
   "cell_type": "code",
   "execution_count": 35,
   "metadata": {},
   "outputs": [
    {
     "data": {
      "text/plain": [
       "season\n",
       "21/22    6433\n",
       "20/21    6338\n",
       "22/23    6254\n",
       "23/24    6235\n",
       "18/19    6095\n",
       "19/20    5688\n",
       "17/18     463\n",
       "24/25     240\n",
       "Name: count, dtype: int64"
      ]
     },
     "execution_count": 35,
     "metadata": {},
     "output_type": "execute_result"
    }
   ],
   "source": [
    "data['season'].value_counts()"
   ]
  }
 ],
 "metadata": {
  "kernelspec": {
   "display_name": "magisterka_env",
   "language": "python",
   "name": "python3"
  },
  "language_info": {
   "codemirror_mode": {
    "name": "ipython",
    "version": 3
   },
   "file_extension": ".py",
   "mimetype": "text/x-python",
   "name": "python",
   "nbconvert_exporter": "python",
   "pygments_lexer": "ipython3",
   "version": "3.11.5"
  }
 },
 "nbformat": 4,
 "nbformat_minor": 2
}
